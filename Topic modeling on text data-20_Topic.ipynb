{
 "cells": [
  {
   "cell_type": "markdown",
   "metadata": {},
   "source": [
    "# Topic modelling on news data for 20 topics\n",
    "\n",
    "- Data is taken from kaggle.\n",
    "- Topic related to health start syncronising \n",
    "- Now increase the topic get  the more syncronised results."
   ]
  },
  {
   "cell_type": "code",
   "execution_count": 1,
   "metadata": {},
   "outputs": [],
   "source": [
    "import pandas as pd\n",
    "data=pd.read_csv('abcnews-date-text.csv',error_bad_lines=False)"
   ]
  },
  {
   "cell_type": "code",
   "execution_count": 2,
   "metadata": {},
   "outputs": [],
   "source": [
    "data_text = data[['headline_text']]\n",
    "data_text['index'] = data_text.index\n",
    "documents = data_text"
   ]
  },
  {
   "cell_type": "code",
   "execution_count": 3,
   "metadata": {},
   "outputs": [
    {
     "name": "stdout",
     "output_type": "stream",
     "text": [
      "1103665\n",
      "                                       headline_text  index\n",
      "0  aba decides against community broadcasting lic...      0\n",
      "1     act fire witnesses must be aware of defamation      1\n",
      "2     a g calls for infrastructure protection summit      2\n",
      "3           air nz staff in aust strike for pay rise      3\n",
      "4      air nz strike to affect australian travellers      4\n"
     ]
    }
   ],
   "source": [
    "print(len(documents))\n",
    "print(documents[:5])"
   ]
  },
  {
   "cell_type": "markdown",
   "metadata": {},
   "source": [
    "# Data preprocessing \n",
    "## Different process we do here like as Tokenization ,lemetization and stemming the data\n",
    "- we wanted to convert the data to their normal form for example 'stolen' would converted to steal\n",
    "### Here nltk is used for removing different language rather than english (Hindi and urdu like that word would be removed)\n",
    "- In preprocessing actually we remove all the punctuation marks , exclamatory marks and commas "
   ]
  },
  {
   "cell_type": "code",
   "execution_count": 4,
   "metadata": {
    "scrolled": true
   },
   "outputs": [
    {
     "name": "stderr",
     "output_type": "stream",
     "text": [
      "[nltk_data] Downloading package wordnet to\n",
      "[nltk_data]     C:\\Users\\user\\AppData\\Roaming\\nltk_data...\n",
      "[nltk_data]   Package wordnet is already up-to-date!\n"
     ]
    },
    {
     "data": {
      "text/plain": [
       "True"
      ]
     },
     "execution_count": 4,
     "metadata": {},
     "output_type": "execute_result"
    }
   ],
   "source": [
    "\n",
    "import gensim\n",
    "from gensim.utils import simple_preprocess\n",
    "from gensim.parsing.preprocessing import STOPWORDS\n",
    "from nltk.stem import WordNetLemmatizer, SnowballStemmer\n",
    "from nltk.stem.porter import *\n",
    "import numpy as np\n",
    "np.random.seed(2018)\n",
    "import nltk\n",
    "nltk.download('wordnet')\n",
    "               \n",
    "            "
   ]
  },
  {
   "cell_type": "markdown",
   "metadata": {},
   "source": [
    "# Lemmatization \n",
    "## Lemmatization is used for gouping of word that's contains the same meaning(synonyms,antonyms)\n",
    "# Tokenization\n",
    "## Tokenization is used for keeps the word having meaningfull meaning\n",
    "- This is used for removal of word like if,the ,a,an that word doesn't make any sense in Topic\n",
    "# Stemming\n",
    "## Stemming is used for convert the word into their root form"
   ]
  },
  {
   "cell_type": "code",
   "execution_count": 5,
   "metadata": {},
   "outputs": [],
   "source": [
    "def lemmatize_stemming(text):\n",
    "    return WordNetLemmatizer().lemmatize(text, pos='v')\n",
    "def preprocess(text):\n",
    "    result = []\n",
    "    for token in gensim.utils.simple_preprocess(text):\n",
    "        if token not in gensim.parsing.preprocessing.STOPWORDS and len(token) > 3:\n",
    "            result.append(lemmatize_stemming(token))\n",
    "    return result"
   ]
  },
  {
   "cell_type": "markdown",
   "metadata": {},
   "source": [
    "# preview data after preprocessing \n",
    "- How the data will look like "
   ]
  },
  {
   "cell_type": "code",
   "execution_count": 6,
   "metadata": {},
   "outputs": [
    {
     "name": "stdout",
     "output_type": "stream",
     "text": [
      "original document: \n",
      "['rain', 'helps', 'dampen', 'bushfires']\n",
      "\n",
      "\n",
      " tokenized and lemmatized document: \n",
      "['rain', 'help', 'dampen', 'bushfires']\n"
     ]
    }
   ],
   "source": [
    "# Select a document to preview after preprocessing\n",
    "doc_sample = documents[documents['index'] == 4310].values[0][0]\n",
    "print('original document: ')\n",
    "words = []\n",
    "for word in doc_sample.split(' '):\n",
    "    words.append(word)\n",
    "print(words)\n",
    "print('\\n\\n tokenized and lemmatized document: ')\n",
    "print(preprocess(doc_sample))\n",
    "\n"
   ]
  },
  {
   "cell_type": "code",
   "execution_count": 7,
   "metadata": {
    "scrolled": true
   },
   "outputs": [
    {
     "data": {
      "text/plain": [
       "0              [decide, community, broadcast, licence]\n",
       "1                         [witness, aware, defamation]\n",
       "2           [call, infrastructure, protection, summit]\n",
       "3                          [staff, aust, strike, rise]\n",
       "4             [strike, affect, australian, travellers]\n",
       "5               [ambitious, olsson, win, triple, jump]\n",
       "6               [antic, delight, record, break, barca]\n",
       "7    [aussie, qualifier, stosur, waste, memphis, ma...\n",
       "8             [aust, address, security, council, iraq]\n",
       "9                         [australia, lock, timetable]\n",
       "Name: headline_text, dtype: object"
      ]
     },
     "execution_count": 7,
     "metadata": {},
     "output_type": "execute_result"
    }
   ],
   "source": [
    "processed_docs = documents['headline_text'].map(preprocess)\n",
    "processed_docs[:10]"
   ]
  },
  {
   "cell_type": "markdown",
   "metadata": {},
   "source": [
    "### Dictionary is formed for "
   ]
  },
  {
   "cell_type": "code",
   "execution_count": 8,
   "metadata": {},
   "outputs": [
    {
     "name": "stdout",
     "output_type": "stream",
     "text": [
      "0 broadcast\n",
      "1 community\n",
      "2 decide\n",
      "3 licence\n",
      "4 aware\n",
      "5 defamation\n",
      "6 witness\n",
      "7 call\n",
      "8 infrastructure\n",
      "9 protection\n",
      "10 summit\n"
     ]
    }
   ],
   "source": [
    "dictionary = gensim.corpora.Dictionary(processed_docs)\n",
    "count = 0\n",
    "for k, v in dictionary.iteritems():\n",
    "    print(k, v)\n",
    "    count += 1\n",
    "    if count > 10:\n",
    "        break"
   ]
  },
  {
   "cell_type": "code",
   "execution_count": null,
   "metadata": {
    "scrolled": true
   },
   "outputs": [],
   "source": []
  },
  {
   "cell_type": "code",
   "execution_count": 9,
   "metadata": {},
   "outputs": [],
   "source": [
    "dictionary.filter_extremes(no_below=15, no_above=0.5, keep_n=100000)"
   ]
  },
  {
   "cell_type": "code",
   "execution_count": 10,
   "metadata": {},
   "outputs": [
    {
     "data": {
      "text/plain": [
       "[(112, 1), (489, 1), (970, 1), (4427, 1)]"
      ]
     },
     "execution_count": 10,
     "metadata": {},
     "output_type": "execute_result"
    }
   ],
   "source": [
    "bow_corpus = [dictionary.doc2bow(doc) for doc in processed_docs]\n",
    "bow_corpus[4310]"
   ]
  },
  {
   "cell_type": "code",
   "execution_count": 11,
   "metadata": {},
   "outputs": [],
   "source": [
    "import pickle\n",
    "pickle.dump(bow_corpus, open('bow_corpus.pkl', 'wb'))\n",
    "dictionary.save('dictionary.gensim')"
   ]
  },
  {
   "cell_type": "code",
   "execution_count": 12,
   "metadata": {},
   "outputs": [
    {
     "name": "stdout",
     "output_type": "stream",
     "text": [
      "Word 112 (\"help\") appears 1 time.\n",
      "Word 489 (\"rain\") appears 1 time.\n",
      "Word 970 (\"bushfires\") appears 1 time.\n",
      "Word 4427 (\"dampen\") appears 1 time.\n"
     ]
    }
   ],
   "source": [
    "bow_doc_4310 = bow_corpus[4310]\n",
    "for i in range(len(bow_doc_4310)):\n",
    "    print(\"Word {} (\\\"{}\\\") appears {} time.\".format(bow_doc_4310[i][0], \n",
    "                                               dictionary[bow_doc_4310[i][0]], \n",
    "bow_doc_4310[i][1]))"
   ]
  },
  {
   "cell_type": "code",
   "execution_count": 13,
   "metadata": {},
   "outputs": [
    {
     "name": "stdout",
     "output_type": "stream",
     "text": [
      "[(0, 0.5955574839932255),\n",
      " (1, 0.394834368882524),\n",
      " (2, 0.4976240783705052),\n",
      " (3, 0.4917188028077664)]\n"
     ]
    }
   ],
   "source": [
    "from gensim import corpora, models\n",
    "tfidf = models.TfidfModel(bow_corpus)\n",
    "corpus_tfidf = tfidf[bow_corpus]\n",
    "from pprint import pprint\n",
    "for doc in corpus_tfidf:\n",
    "    pprint(doc)\n",
    "    break"
   ]
  },
  {
   "cell_type": "markdown",
   "metadata": {},
   "source": []
  },
  {
   "cell_type": "code",
   "execution_count": 14,
   "metadata": {},
   "outputs": [],
   "source": [
    "lda_model = gensim.models.LdaMulticore(bow_corpus, num_topics=20, id2word=dictionary, passes=2, workers=2)\n",
    "lda_model.save('model20.gensim')"
   ]
  },
  {
   "cell_type": "code",
   "execution_count": 15,
   "metadata": {
    "scrolled": false
   },
   "outputs": [
    {
     "name": "stdout",
     "output_type": "stream",
     "text": [
      "Topic: 0 \n",
      "Words: 0.105*\"australia\" + 0.040*\"test\" + 0.030*\"time\" + 0.027*\"life\" + 0.027*\"take\" + 0.024*\"lead\" + 0.023*\"victoria\" + 0.020*\"industry\" + 0.016*\"mark\" + 0.016*\"fail\"\n",
      "Topic: 1 \n",
      "Words: 0.070*\"court\" + 0.054*\"charge\" + 0.046*\"face\" + 0.042*\"murder\" + 0.038*\"jail\" + 0.034*\"drug\" + 0.034*\"accuse\" + 0.028*\"women\" + 0.028*\"trial\" + 0.024*\"children\"\n",
      "Topic: 2 \n",
      "Words: 0.054*\"canberra\" + 0.037*\"fight\" + 0.035*\"final\" + 0.033*\"train\" + 0.027*\"price\" + 0.024*\"season\" + 0.017*\"come\" + 0.016*\"rail\" + 0.015*\"sexual\" + 0.015*\"march\"\n",
      "Topic: 3 \n",
      "Words: 0.063*\"sydney\" + 0.050*\"melbourne\" + 0.049*\"attack\" + 0.040*\"police\" + 0.032*\"shoot\" + 0.028*\"arrest\" + 0.025*\"win\" + 0.025*\"dead\" + 0.023*\"assault\" + 0.023*\"case\"\n",
      "Topic: 4 \n",
      "Words: 0.034*\"fund\" + 0.033*\"health\" + 0.028*\"world\" + 0.028*\"indigenous\" + 0.026*\"service\" + 0.026*\"minister\" + 0.022*\"need\" + 0.022*\"tell\" + 0.021*\"centre\" + 0.019*\"community\"\n",
      "Topic: 5 \n",
      "Words: 0.039*\"call\" + 0.036*\"plan\" + 0.035*\"council\" + 0.029*\"water\" + 0.027*\"national\" + 0.026*\"concern\" + 0.024*\"meet\" + 0.022*\"park\" + 0.021*\"want\" + 0.020*\"push\"\n",
      "Topic: 6 \n",
      "Words: 0.040*\"brisbane\" + 0.033*\"hour\" + 0.032*\"leave\" + 0.027*\"return\" + 0.020*\"premier\" + 0.020*\"save\" + 0.020*\"workers\" + 0.020*\"energy\" + 0.019*\"second\" + 0.019*\"reveal\"\n",
      "Topic: 7 \n",
      "Words: 0.057*\"adelaide\" + 0.046*\"state\" + 0.036*\"power\" + 0.023*\"storm\" + 0.021*\"media\" + 0.021*\"western\" + 0.019*\"company\" + 0.018*\"festival\" + 0.017*\"beach\" + 0.017*\"australians\"\n",
      "Topic: 8 \n",
      "Words: 0.046*\"rural\" + 0.038*\"donald\" + 0.035*\"claim\" + 0.021*\"inquiry\" + 0.021*\"announce\" + 0.020*\"urge\" + 0.020*\"mine\" + 0.020*\"federal\" + 0.018*\"go\" + 0.018*\"deny\"\n",
      "Topic: 9 \n",
      "Words: 0.050*\"coast\" + 0.037*\"rise\" + 0.036*\"tasmanian\" + 0.032*\"break\" + 0.032*\"gold\" + 0.023*\"violence\" + 0.021*\"hill\" + 0.019*\"defend\" + 0.017*\"team\" + 0.017*\"coal\"\n",
      "Topic: 10 \n",
      "Words: 0.049*\"live\" + 0.031*\"guilty\" + 0.031*\"farm\" + 0.029*\"beat\" + 0.023*\"trade\" + 0.021*\"free\" + 0.021*\"christmas\" + 0.021*\"plead\" + 0.018*\"offer\" + 0.018*\"cattle\"\n",
      "Topic: 11 \n",
      "Words: 0.054*\"perth\" + 0.048*\"interview\" + 0.044*\"miss\" + 0.034*\"turnbull\" + 0.029*\"force\" + 0.028*\"search\" + 0.027*\"kill\" + 0.027*\"near\" + 0.024*\"head\" + 0.023*\"body\"\n",
      "Topic: 12 \n",
      "Words: 0.142*\"say\" + 0.027*\"talk\" + 0.025*\"game\" + 0.023*\"young\" + 0.022*\"star\" + 0.021*\"korea\" + 0.019*\"rat\" + 0.019*\"president\" + 0.018*\"marriage\" + 0.018*\"food\"\n",
      "Topic: 13 \n",
      "Words: 0.052*\"queensland\" + 0.048*\"election\" + 0.042*\"north\" + 0.037*\"year\" + 0.027*\"share\" + 0.026*\"high\" + 0.023*\"budget\" + 0.021*\"show\" + 0.018*\"business\" + 0.018*\"campaign\"\n",
      "Topic: 14 \n",
      "Words: 0.058*\"south\" + 0.038*\"years\" + 0.034*\"child\" + 0.033*\"record\" + 0.033*\"market\" + 0.030*\"fall\" + 0.025*\"close\" + 0.023*\"party\" + 0.021*\"give\" + 0.020*\"australias\"\n",
      "Topic: 15 \n",
      "Words: 0.091*\"police\" + 0.048*\"help\" + 0.038*\"hospital\" + 0.028*\"abuse\" + 0.024*\"royal\" + 0.022*\"drum\" + 0.021*\"race\" + 0.021*\"seek\" + 0.020*\"commission\" + 0.020*\"driver\"\n",
      "Topic: 16 \n",
      "Words: 0.079*\"government\" + 0.039*\"china\" + 0.032*\"league\" + 0.026*\"city\" + 0.022*\"station\" + 0.021*\"strike\" + 0.021*\"land\" + 0.020*\"weather\" + 0.019*\"play\" + 0.019*\"rugby\"\n",
      "Topic: 17 \n",
      "Words: 0.055*\"change\" + 0.052*\"home\" + 0.048*\"country\" + 0.033*\"deal\" + 0.031*\"lose\" + 0.031*\"woman\" + 0.028*\"news\" + 0.027*\"support\" + 0.025*\"port\" + 0.021*\"protest\"\n",
      "Topic: 18 \n",
      "Words: 0.048*\"crash\" + 0.042*\"die\" + 0.031*\"people\" + 0.027*\"flood\" + 0.022*\"find\" + 0.022*\"darwin\" + 0.022*\"road\" + 0.021*\"death\" + 0.018*\"east\" + 0.017*\"street\"\n",
      "Topic: 19 \n",
      "Words: 0.101*\"australian\" + 0.051*\"open\" + 0.036*\"tasmania\" + 0.027*\"labor\" + 0.026*\"green\" + 0.023*\"hobart\" + 0.022*\"students\" + 0.019*\"rescue\" + 0.019*\"link\" + 0.017*\"anti\"\n"
     ]
    }
   ],
   "source": [
    "for idx, topic in lda_model.print_topics(-1):\n",
    "    print('Topic: {} \\nWords: {}'.format(idx, topic))"
   ]
  },
  {
   "cell_type": "markdown",
   "metadata": {
    "scrolled": true
   },
   "source": [
    "lda_model_tfidf = gensim.models.LdaMulticore(corpus_tfidf, num_topics=10, id2word=dictionary, passes=2, workers=4)\n",
    "lda_model.save('model10.gensim')\n",
    "for idx, topic in lda_model_tfidf.print_topics(-1):\n",
    "    print('Topic: {} Word: {}'.format(idx, topic))\n"
   ]
  },
  {
   "cell_type": "code",
   "execution_count": 16,
   "metadata": {},
   "outputs": [
    {
     "data": {
      "text/plain": [
       "['rain', 'help', 'dampen', 'bushfires']"
      ]
     },
     "execution_count": 16,
     "metadata": {},
     "output_type": "execute_result"
    }
   ],
   "source": [
    "processed_docs[4310]"
   ]
  },
  {
   "cell_type": "markdown",
   "metadata": {},
   "source": [
    "for index, score in sorted(lda_model[bow_corpus[4310]], key=lambda tup: -1*tup[1]):\n",
    "    print(\"\\nScore: {}\\t \\nTopic: {}\".format(score, lda_model.print_topic(index, 10)))"
   ]
  },
  {
   "cell_type": "markdown",
   "metadata": {
    "scrolled": true
   },
   "source": [
    "for index, score in sorted(lda_model_tfidf[bow_corpus[4310]], key=lambda tup: -1*tup[1]):\n",
    "    print(\"\\nScore: {}\\t \\nTopic: {}\".format(score, lda_model_tfidf.print_topic(index, 20)))"
   ]
  },
  {
   "cell_type": "code",
   "execution_count": 19,
   "metadata": {
    "scrolled": true
   },
   "outputs": [
    {
     "name": "stdout",
     "output_type": "stream",
     "text": [
      "Score: 0.21007992327213287\t Topic: 0.091*\"police\" + 0.048*\"help\" + 0.038*\"hospital\" + 0.028*\"abuse\" + 0.024*\"royal\" + 0.022*\"drum\" + 0.021*\"race\" + 0.021*\"seek\" + 0.020*\"commission\" + 0.020*\"driver\"\n",
      "Score: 0.2100663185119629\t Topic: 0.039*\"call\" + 0.036*\"plan\" + 0.035*\"council\" + 0.029*\"water\" + 0.027*\"national\" + 0.026*\"concern\" + 0.024*\"meet\" + 0.022*\"park\" + 0.021*\"want\" + 0.020*\"push\"\n",
      "Score: 0.20998764038085938\t Topic: 0.034*\"fund\" + 0.033*\"health\" + 0.028*\"world\" + 0.028*\"indigenous\" + 0.026*\"service\" + 0.026*\"minister\" + 0.022*\"need\" + 0.022*\"tell\" + 0.021*\"centre\" + 0.019*\"community\"\n",
      "Score: 0.20980235934257507\t Topic: 0.142*\"say\" + 0.027*\"talk\" + 0.025*\"game\" + 0.023*\"young\" + 0.022*\"star\" + 0.021*\"korea\" + 0.019*\"rat\" + 0.019*\"president\" + 0.018*\"marriage\" + 0.018*\"food\"\n",
      "Score: 0.010003982111811638\t Topic: 0.105*\"australia\" + 0.040*\"test\" + 0.030*\"time\" + 0.027*\"life\" + 0.027*\"take\" + 0.024*\"lead\" + 0.023*\"victoria\" + 0.020*\"industry\" + 0.016*\"mark\" + 0.016*\"fail\"\n",
      "Score: 0.010003982111811638\t Topic: 0.070*\"court\" + 0.054*\"charge\" + 0.046*\"face\" + 0.042*\"murder\" + 0.038*\"jail\" + 0.034*\"drug\" + 0.034*\"accuse\" + 0.028*\"women\" + 0.028*\"trial\" + 0.024*\"children\"\n",
      "Score: 0.010003982111811638\t Topic: 0.054*\"canberra\" + 0.037*\"fight\" + 0.035*\"final\" + 0.033*\"train\" + 0.027*\"price\" + 0.024*\"season\" + 0.017*\"come\" + 0.016*\"rail\" + 0.015*\"sexual\" + 0.015*\"march\"\n",
      "Score: 0.010003982111811638\t Topic: 0.063*\"sydney\" + 0.050*\"melbourne\" + 0.049*\"attack\" + 0.040*\"police\" + 0.032*\"shoot\" + 0.028*\"arrest\" + 0.025*\"win\" + 0.025*\"dead\" + 0.023*\"assault\" + 0.023*\"case\"\n",
      "Score: 0.010003982111811638\t Topic: 0.040*\"brisbane\" + 0.033*\"hour\" + 0.032*\"leave\" + 0.027*\"return\" + 0.020*\"premier\" + 0.020*\"save\" + 0.020*\"workers\" + 0.020*\"energy\" + 0.019*\"second\" + 0.019*\"reveal\"\n",
      "Score: 0.010003982111811638\t Topic: 0.057*\"adelaide\" + 0.046*\"state\" + 0.036*\"power\" + 0.023*\"storm\" + 0.021*\"media\" + 0.021*\"western\" + 0.019*\"company\" + 0.018*\"festival\" + 0.017*\"beach\" + 0.017*\"australians\"\n",
      "Score: 0.010003982111811638\t Topic: 0.046*\"rural\" + 0.038*\"donald\" + 0.035*\"claim\" + 0.021*\"inquiry\" + 0.021*\"announce\" + 0.020*\"urge\" + 0.020*\"mine\" + 0.020*\"federal\" + 0.018*\"go\" + 0.018*\"deny\"\n",
      "Score: 0.010003982111811638\t Topic: 0.050*\"coast\" + 0.037*\"rise\" + 0.036*\"tasmanian\" + 0.032*\"break\" + 0.032*\"gold\" + 0.023*\"violence\" + 0.021*\"hill\" + 0.019*\"defend\" + 0.017*\"team\" + 0.017*\"coal\"\n",
      "Score: 0.010003982111811638\t Topic: 0.049*\"live\" + 0.031*\"guilty\" + 0.031*\"farm\" + 0.029*\"beat\" + 0.023*\"trade\" + 0.021*\"free\" + 0.021*\"christmas\" + 0.021*\"plead\" + 0.018*\"offer\" + 0.018*\"cattle\"\n",
      "Score: 0.010003982111811638\t Topic: 0.054*\"perth\" + 0.048*\"interview\" + 0.044*\"miss\" + 0.034*\"turnbull\" + 0.029*\"force\" + 0.028*\"search\" + 0.027*\"kill\" + 0.027*\"near\" + 0.024*\"head\" + 0.023*\"body\"\n",
      "Score: 0.010003982111811638\t Topic: 0.052*\"queensland\" + 0.048*\"election\" + 0.042*\"north\" + 0.037*\"year\" + 0.027*\"share\" + 0.026*\"high\" + 0.023*\"budget\" + 0.021*\"show\" + 0.018*\"business\" + 0.018*\"campaign\"\n",
      "Score: 0.010003982111811638\t Topic: 0.058*\"south\" + 0.038*\"years\" + 0.034*\"child\" + 0.033*\"record\" + 0.033*\"market\" + 0.030*\"fall\" + 0.025*\"close\" + 0.023*\"party\" + 0.021*\"give\" + 0.020*\"australias\"\n",
      "Score: 0.010003982111811638\t Topic: 0.079*\"government\" + 0.039*\"china\" + 0.032*\"league\" + 0.026*\"city\" + 0.022*\"station\" + 0.021*\"strike\" + 0.021*\"land\" + 0.020*\"weather\" + 0.019*\"play\" + 0.019*\"rugby\"\n",
      "Score: 0.010003982111811638\t Topic: 0.055*\"change\" + 0.052*\"home\" + 0.048*\"country\" + 0.033*\"deal\" + 0.031*\"lose\" + 0.031*\"woman\" + 0.028*\"news\" + 0.027*\"support\" + 0.025*\"port\" + 0.021*\"protest\"\n",
      "Score: 0.010003982111811638\t Topic: 0.048*\"crash\" + 0.042*\"die\" + 0.031*\"people\" + 0.027*\"flood\" + 0.022*\"find\" + 0.022*\"darwin\" + 0.022*\"road\" + 0.021*\"death\" + 0.018*\"east\" + 0.017*\"street\"\n",
      "Score: 0.010003982111811638\t Topic: 0.101*\"australian\" + 0.051*\"open\" + 0.036*\"tasmania\" + 0.027*\"labor\" + 0.026*\"green\" + 0.023*\"hobart\" + 0.022*\"students\" + 0.019*\"rescue\" + 0.019*\"link\" + 0.017*\"anti\"\n"
     ]
    }
   ],
   "source": [
    "unseen_document = 'breast cancer lead to the breakdown of women and diagnostic and medicine of cancer is very costly.'\n",
    "bow_vector = dictionary.doc2bow(preprocess(unseen_document))\n",
    "for index, score in sorted(lda_model[bow_vector], key=lambda tup: -1*tup[1]):\n",
    "    print(\"Score: {}\\t Topic: {}\".format(score, lda_model.print_topic(index, 10)))"
   ]
  },
  {
   "cell_type": "code",
   "execution_count": 21,
   "metadata": {},
   "outputs": [],
   "source": [
    "dictionary = gensim.corpora.Dictionary.load('dictionary.gensim')\n",
    "corpus = pickle.load(open('bow_corpus.pkl', 'rb'))\n",
    "lda = gensim.models.ldamodel.LdaModel.load('model20.gensim')\n"
   ]
  },
  {
   "cell_type": "code",
   "execution_count": 22,
   "metadata": {},
   "outputs": [
    {
     "name": "stderr",
     "output_type": "stream",
     "text": [
      "C:\\ProgramData\\Anaconda3\\lib\\site-packages\\pyLDAvis\\_prepare.py:257: FutureWarning: Sorting because non-concatenation axis is not aligned. A future version\n",
      "of pandas will change to not sort by default.\n",
      "\n",
      "To accept the future behavior, pass 'sort=False'.\n",
      "\n",
      "To retain the current behavior and silence the warning, pass 'sort=True'.\n",
      "\n",
      "  return pd.concat([default_term_info] + list(topic_dfs))\n"
     ]
    },
    {
     "data": {
      "text/html": [
       "\n",
       "<link rel=\"stylesheet\" type=\"text/css\" href=\"https://cdn.rawgit.com/bmabey/pyLDAvis/files/ldavis.v1.0.0.css\">\n",
       "\n",
       "\n",
       "<div id=\"ldavis_el896417190114574488436113136\"></div>\n",
       "<script type=\"text/javascript\">\n",
       "\n",
       "var ldavis_el896417190114574488436113136_data = {\"mdsDat\": {\"x\": [0.08873079858040296, -0.2556366437629064, 0.040970540922539544, -0.28427768140518367, 0.11764640523038776, 0.12904760575366495, 0.044043456082944056, 0.0166031081224024, 0.10197483658594049, 0.04751924109918384, 0.02833583001077462, -0.06463404723328325, -0.01790566392242779, 0.11516919187370518, 0.10018705413710298, -0.22716738787344712, 0.05365489679017895, -0.022094916341141888, -0.0479256355114942, 0.035759010860657435], \"y\": [0.09350255385378864, -0.020138826407830157, 0.05530028204050263, -0.08239564304268539, -0.18508708045249733, -0.229441155868904, 0.02561252248763216, 0.07828228319322462, -0.2618901655758248, 0.07885130721135204, 0.1256953431223959, 0.08475003007601448, 0.02923566155074513, 0.006617079834966478, 0.048528159075108795, -0.09611614745030475, 0.08053118673544457, 0.10557807532223504, -0.04225878216474936, 0.10484331645938554], \"topics\": [1, 2, 3, 4, 5, 6, 7, 8, 9, 10, 11, 12, 13, 14, 15, 16, 17, 18, 19, 20], \"cluster\": [1, 1, 1, 1, 1, 1, 1, 1, 1, 1, 1, 1, 1, 1, 1, 1, 1, 1, 1, 1], \"Freq\": [5.019482612609863, 5.3710246086120605, 4.34019660949707, 5.309225559234619, 6.193559169769287, 6.7274274826049805, 4.735050201416016, 4.558324337005615, 5.103754043579102, 4.759399890899658, 4.396202564239502, 4.672063827514648, 4.905244827270508, 5.318150520324707, 4.581242561340332, 5.062010765075684, 4.607272148132324, 4.717392921447754, 5.185091972351074, 4.437892913818359]}, \"tinfo\": {\"Category\": [\"Default\", \"Default\", \"Default\", \"Default\", \"Default\", \"Default\", \"Default\", \"Default\", \"Default\", \"Default\", \"Default\", \"Default\", \"Default\", \"Default\", \"Default\", \"Default\", \"Default\", \"Default\", \"Default\", \"Default\", \"Default\", \"Default\", \"Default\", \"Default\", \"Default\", \"Default\", \"Default\", \"Default\", \"Default\", \"Default\", \"Topic1\", \"Topic1\", \"Topic1\", \"Topic1\", \"Topic1\", \"Topic1\", \"Topic1\", \"Topic1\", \"Topic1\", \"Topic1\", \"Topic1\", \"Topic1\", \"Topic1\", \"Topic1\", \"Topic1\", \"Topic1\", \"Topic1\", \"Topic1\", \"Topic1\", \"Topic1\", \"Topic1\", \"Topic1\", \"Topic1\", \"Topic1\", \"Topic1\", \"Topic1\", \"Topic1\", \"Topic1\", \"Topic1\", \"Topic1\", \"Topic1\", \"Topic2\", \"Topic2\", \"Topic2\", \"Topic2\", \"Topic2\", \"Topic2\", \"Topic2\", \"Topic2\", \"Topic2\", \"Topic2\", \"Topic2\", \"Topic2\", \"Topic2\", \"Topic2\", \"Topic2\", \"Topic2\", \"Topic2\", \"Topic2\", \"Topic2\", \"Topic2\", \"Topic2\", \"Topic2\", \"Topic2\", \"Topic2\", \"Topic2\", \"Topic2\", \"Topic2\", \"Topic2\", \"Topic2\", \"Topic2\", \"Topic2\", \"Topic2\", \"Topic2\", \"Topic2\", \"Topic2\", \"Topic2\", \"Topic2\", \"Topic2\", \"Topic2\", \"Topic3\", \"Topic3\", \"Topic3\", \"Topic3\", \"Topic3\", \"Topic3\", \"Topic3\", \"Topic3\", \"Topic3\", \"Topic3\", \"Topic3\", \"Topic3\", \"Topic3\", \"Topic3\", \"Topic3\", \"Topic3\", \"Topic3\", \"Topic3\", \"Topic3\", \"Topic3\", \"Topic3\", \"Topic3\", \"Topic3\", \"Topic3\", \"Topic3\", \"Topic3\", \"Topic3\", \"Topic3\", \"Topic3\", \"Topic3\", \"Topic3\", \"Topic3\", \"Topic4\", \"Topic4\", \"Topic4\", \"Topic4\", \"Topic4\", \"Topic4\", \"Topic4\", \"Topic4\", \"Topic4\", \"Topic4\", \"Topic4\", \"Topic4\", \"Topic4\", \"Topic4\", \"Topic4\", \"Topic4\", \"Topic4\", \"Topic4\", \"Topic4\", \"Topic4\", \"Topic4\", \"Topic4\", \"Topic4\", \"Topic4\", \"Topic4\", \"Topic4\", \"Topic4\", \"Topic4\", \"Topic4\", \"Topic4\", \"Topic4\", \"Topic4\", \"Topic4\", \"Topic4\", \"Topic4\", \"Topic4\", \"Topic5\", \"Topic5\", \"Topic5\", \"Topic5\", \"Topic5\", \"Topic5\", \"Topic5\", \"Topic5\", \"Topic5\", \"Topic5\", \"Topic5\", \"Topic5\", \"Topic5\", \"Topic5\", \"Topic5\", \"Topic5\", \"Topic5\", \"Topic5\", \"Topic5\", \"Topic5\", \"Topic5\", \"Topic5\", \"Topic5\", \"Topic5\", \"Topic5\", \"Topic5\", \"Topic5\", \"Topic5\", \"Topic5\", \"Topic5\", \"Topic5\", \"Topic5\", \"Topic5\", \"Topic6\", \"Topic6\", \"Topic6\", \"Topic6\", \"Topic6\", \"Topic6\", \"Topic6\", \"Topic6\", \"Topic6\", \"Topic6\", \"Topic6\", \"Topic6\", \"Topic6\", \"Topic6\", \"Topic6\", \"Topic6\", \"Topic6\", \"Topic6\", \"Topic6\", \"Topic6\", \"Topic6\", \"Topic6\", \"Topic6\", \"Topic6\", \"Topic6\", \"Topic6\", \"Topic6\", \"Topic6\", \"Topic6\", \"Topic6\", \"Topic6\", \"Topic6\", \"Topic6\", \"Topic7\", \"Topic7\", \"Topic7\", \"Topic7\", \"Topic7\", \"Topic7\", \"Topic7\", \"Topic7\", \"Topic7\", \"Topic7\", \"Topic7\", \"Topic7\", \"Topic7\", \"Topic7\", \"Topic7\", \"Topic7\", \"Topic7\", \"Topic7\", \"Topic7\", \"Topic7\", \"Topic7\", \"Topic7\", \"Topic7\", \"Topic7\", \"Topic7\", \"Topic7\", \"Topic7\", \"Topic7\", \"Topic7\", \"Topic7\", \"Topic7\", \"Topic8\", \"Topic8\", \"Topic8\", \"Topic8\", \"Topic8\", \"Topic8\", \"Topic8\", \"Topic8\", \"Topic8\", \"Topic8\", \"Topic8\", \"Topic8\", \"Topic8\", \"Topic8\", \"Topic8\", \"Topic8\", \"Topic8\", \"Topic8\", \"Topic8\", \"Topic8\", \"Topic8\", \"Topic8\", \"Topic8\", \"Topic8\", \"Topic8\", \"Topic8\", \"Topic8\", \"Topic8\", \"Topic8\", \"Topic8\", \"Topic8\", \"Topic9\", \"Topic9\", \"Topic9\", \"Topic9\", \"Topic9\", \"Topic9\", \"Topic9\", \"Topic9\", \"Topic9\", \"Topic9\", \"Topic9\", \"Topic9\", \"Topic9\", \"Topic9\", \"Topic9\", \"Topic9\", \"Topic9\", \"Topic9\", \"Topic9\", \"Topic9\", \"Topic9\", \"Topic9\", \"Topic9\", \"Topic9\", \"Topic9\", \"Topic9\", \"Topic9\", \"Topic9\", \"Topic9\", \"Topic9\", \"Topic9\", \"Topic9\", \"Topic9\", \"Topic9\", \"Topic9\", \"Topic9\", \"Topic9\", \"Topic10\", \"Topic10\", \"Topic10\", \"Topic10\", \"Topic10\", \"Topic10\", \"Topic10\", \"Topic10\", \"Topic10\", \"Topic10\", \"Topic10\", \"Topic10\", \"Topic10\", \"Topic10\", \"Topic10\", \"Topic10\", \"Topic10\", \"Topic10\", \"Topic10\", \"Topic10\", \"Topic10\", \"Topic10\", \"Topic10\", \"Topic10\", \"Topic10\", \"Topic10\", \"Topic10\", \"Topic10\", \"Topic10\", \"Topic10\", \"Topic10\", \"Topic10\", \"Topic11\", \"Topic11\", \"Topic11\", \"Topic11\", \"Topic11\", \"Topic11\", \"Topic11\", \"Topic11\", \"Topic11\", \"Topic11\", \"Topic11\", \"Topic11\", \"Topic11\", \"Topic11\", \"Topic11\", \"Topic11\", \"Topic11\", \"Topic11\", \"Topic11\", \"Topic11\", \"Topic11\", \"Topic11\", \"Topic11\", \"Topic11\", \"Topic11\", \"Topic11\", \"Topic11\", \"Topic11\", \"Topic11\", \"Topic11\", \"Topic11\", \"Topic11\", \"Topic12\", \"Topic12\", \"Topic12\", \"Topic12\", \"Topic12\", \"Topic12\", \"Topic12\", \"Topic12\", \"Topic12\", \"Topic12\", \"Topic12\", \"Topic12\", \"Topic12\", \"Topic12\", \"Topic12\", \"Topic12\", \"Topic12\", \"Topic12\", \"Topic12\", \"Topic12\", \"Topic12\", \"Topic12\", \"Topic12\", \"Topic12\", \"Topic12\", \"Topic12\", \"Topic12\", \"Topic12\", \"Topic12\", \"Topic12\", \"Topic12\", \"Topic12\", \"Topic12\", \"Topic13\", \"Topic13\", \"Topic13\", \"Topic13\", \"Topic13\", \"Topic13\", \"Topic13\", \"Topic13\", \"Topic13\", \"Topic13\", \"Topic13\", \"Topic13\", \"Topic13\", \"Topic13\", \"Topic13\", \"Topic13\", \"Topic13\", \"Topic13\", \"Topic13\", \"Topic13\", \"Topic13\", \"Topic13\", \"Topic13\", \"Topic13\", \"Topic13\", \"Topic13\", \"Topic13\", \"Topic13\", \"Topic13\", \"Topic13\", \"Topic13\", \"Topic13\", \"Topic13\", \"Topic13\", \"Topic14\", \"Topic14\", \"Topic14\", \"Topic14\", \"Topic14\", \"Topic14\", \"Topic14\", \"Topic14\", \"Topic14\", \"Topic14\", \"Topic14\", \"Topic14\", \"Topic14\", \"Topic14\", \"Topic14\", \"Topic14\", \"Topic14\", \"Topic14\", \"Topic14\", \"Topic14\", \"Topic14\", \"Topic14\", \"Topic14\", \"Topic14\", \"Topic14\", \"Topic14\", \"Topic14\", \"Topic14\", \"Topic14\", \"Topic14\", \"Topic14\", \"Topic14\", \"Topic14\", \"Topic14\", \"Topic15\", \"Topic15\", \"Topic15\", \"Topic15\", \"Topic15\", \"Topic15\", \"Topic15\", \"Topic15\", \"Topic15\", \"Topic15\", \"Topic15\", \"Topic15\", \"Topic15\", \"Topic15\", \"Topic15\", \"Topic15\", \"Topic15\", \"Topic15\", \"Topic15\", \"Topic15\", \"Topic15\", \"Topic15\", \"Topic15\", \"Topic15\", \"Topic15\", \"Topic15\", \"Topic15\", \"Topic15\", \"Topic15\", \"Topic15\", \"Topic15\", \"Topic15\", \"Topic16\", \"Topic16\", \"Topic16\", \"Topic16\", \"Topic16\", \"Topic16\", \"Topic16\", \"Topic16\", \"Topic16\", \"Topic16\", \"Topic16\", \"Topic16\", \"Topic16\", \"Topic16\", \"Topic16\", \"Topic16\", \"Topic16\", \"Topic16\", \"Topic16\", \"Topic16\", \"Topic16\", \"Topic16\", \"Topic16\", \"Topic16\", \"Topic16\", \"Topic16\", \"Topic16\", \"Topic16\", \"Topic16\", \"Topic16\", \"Topic16\", \"Topic16\", \"Topic16\", \"Topic16\", \"Topic16\", \"Topic16\", \"Topic16\", \"Topic17\", \"Topic17\", \"Topic17\", \"Topic17\", \"Topic17\", \"Topic17\", \"Topic17\", \"Topic17\", \"Topic17\", \"Topic17\", \"Topic17\", \"Topic17\", \"Topic17\", \"Topic17\", \"Topic17\", \"Topic17\", \"Topic17\", \"Topic17\", \"Topic17\", \"Topic17\", \"Topic17\", \"Topic17\", \"Topic17\", \"Topic17\", \"Topic17\", \"Topic17\", \"Topic17\", \"Topic17\", \"Topic17\", \"Topic17\", \"Topic17\", \"Topic17\", \"Topic18\", \"Topic18\", \"Topic18\", \"Topic18\", \"Topic18\", \"Topic18\", \"Topic18\", \"Topic18\", \"Topic18\", \"Topic18\", \"Topic18\", \"Topic18\", \"Topic18\", \"Topic18\", \"Topic18\", \"Topic18\", \"Topic18\", \"Topic18\", \"Topic18\", \"Topic18\", \"Topic18\", \"Topic18\", \"Topic18\", \"Topic18\", \"Topic18\", \"Topic18\", \"Topic18\", \"Topic18\", \"Topic18\", \"Topic18\", \"Topic18\", \"Topic19\", \"Topic19\", \"Topic19\", \"Topic19\", \"Topic19\", \"Topic19\", \"Topic19\", \"Topic19\", \"Topic19\", \"Topic19\", \"Topic19\", \"Topic19\", \"Topic19\", \"Topic19\", \"Topic19\", \"Topic19\", \"Topic19\", \"Topic19\", \"Topic19\", \"Topic19\", \"Topic19\", \"Topic19\", \"Topic19\", \"Topic19\", \"Topic19\", \"Topic19\", \"Topic19\", \"Topic19\", \"Topic19\", \"Topic19\", \"Topic19\", \"Topic19\", \"Topic19\", \"Topic19\", \"Topic20\", \"Topic20\", \"Topic20\", \"Topic20\", \"Topic20\", \"Topic20\", \"Topic20\", \"Topic20\", \"Topic20\", \"Topic20\", \"Topic20\", \"Topic20\", \"Topic20\", \"Topic20\", \"Topic20\", \"Topic20\", \"Topic20\", \"Topic20\", \"Topic20\", \"Topic20\", \"Topic20\", \"Topic20\", \"Topic20\", \"Topic20\", \"Topic20\", \"Topic20\", \"Topic20\", \"Topic20\", \"Topic20\", \"Topic20\", \"Topic20\", \"Topic20\"], \"Freq\": [33767.0, 32842.0, 25590.0, 21868.0, 17615.0, 18310.0, 16171.0, 19072.0, 12883.0, 13406.0, 12578.0, 12526.0, 12290.0, 12818.0, 12763.0, 12474.0, 11889.0, 12144.0, 11416.0, 11562.0, 11722.0, 11943.0, 12841.0, 11079.0, 11425.0, 11017.0, 11036.0, 13157.0, 10409.0, 10887.0, 25589.564453125, 9795.3623046875, 6697.17822265625, 6629.7333984375, 5788.4365234375, 5658.0771484375, 4994.79248046875, 3979.68408203125, 7339.62109375, 3898.6572265625, 3862.739013671875, 3815.250732421875, 3412.2490234375, 3372.34521484375, 3198.93505859375, 3191.10595703125, 3020.369873046875, 3011.41748046875, 2871.4482421875, 2839.273681640625, 2704.123046875, 2641.374267578125, 2454.70849609375, 2332.74951171875, 2302.984130859375, 2259.65380859375, 2066.225341796875, 2060.214111328125, 1969.21728515625, 1847.3924560546875, 2111.35107421875, 18309.673828125, 11942.1787109375, 9963.6201171875, 8974.869140625, 8868.87890625, 7301.74072265625, 7235.189453125, 6166.24072265625, 5949.03515625, 4999.74560546875, 4287.150390625, 2673.000244140625, 2226.33935546875, 2065.385986328125, 2033.365478515625, 1891.8443603515625, 1880.23388671875, 1854.3612060546875, 1830.0245361328125, 1807.3245849609375, 1749.414794921875, 1736.798828125, 1674.64794921875, 1642.8572998046875, 1537.7105712890625, 1512.4346923828125, 1479.3131103515625, 1472.0020751953125, 1398.96728515625, 1396.9381103515625, 5010.5400390625, 11050.58984375, 14105.09375, 3211.969482421875, 1786.385009765625, 4359.43359375, 2947.2333984375, 3059.07666015625, 1918.1357421875, 11415.828125, 7912.34228515625, 7474.69091796875, 7061.814453125, 4986.08349609375, 3664.889892578125, 3394.8466796875, 3171.478271484375, 3144.13720703125, 3128.8623046875, 2894.43505859375, 2700.070068359375, 2598.842529296875, 2545.50146484375, 2528.99365234375, 2469.528076171875, 2465.95263671875, 2409.118896484375, 2326.630126953125, 2157.663818359375, 2143.058349609375, 2132.78662109375, 2030.8267822265625, 2008.260498046875, 1976.53564453125, 1893.8746337890625, 1869.7042236328125, 1842.1993408203125, 1824.5137939453125, 1716.9346923828125, 5802.591796875, 2378.31201171875, 16170.115234375, 12817.6435546875, 12762.966796875, 8364.6259765625, 7352.94873046875, 6394.0458984375, 5869.43212890625, 5846.93994140625, 5757.6533203125, 5346.5517578125, 5168.3623046875, 4768.6748046875, 4182.6669921875, 4098.3427734375, 3988.29052734375, 3686.74658203125, 3458.538330078125, 3072.593017578125, 2904.83349609375, 2637.55224609375, 2178.67626953125, 2063.752197265625, 1892.5601806640625, 1793.371337890625, 2452.4130859375, 1530.1820068359375, 1488.852783203125, 1466.3822021484375, 1429.591552734375, 1411.8311767578125, 6461.92236328125, 10376.8994140625, 4965.96728515625, 2735.73095703125, 2106.28125, 1842.55712890625, 9882.0458984375, 10215.28125, 8306.4072265625, 7902.44873046875, 7827.12451171875, 6771.15673828125, 6611.60009765625, 6258.91748046875, 5847.56201171875, 5808.5927734375, 5551.10009765625, 5374.97900390625, 4869.28271484375, 4654.31005859375, 4473.2685546875, 4333.59814453125, 3902.0810546875, 3889.134521484375, 3783.1162109375, 3737.687744140625, 3663.76123046875, 3626.7265625, 3285.63720703125, 3259.533447265625, 3234.0712890625, 3174.26806640625, 3100.43115234375, 2784.303466796875, 2668.11962890625, 2469.174560546875, 8399.056640625, 5550.466796875, 3007.56005859375, 12840.2001953125, 11372.853515625, 9535.1953125, 8811.10546875, 8383.7802734375, 7802.017578125, 7278.005859375, 6833.80517578125, 6676.81884765625, 6596.873046875, 6290.3212890625, 6207.853515625, 5687.8154296875, 5623.4677734375, 5192.1943359375, 4834.302734375, 4629.42236328125, 4201.26318359375, 4073.20166015625, 3966.5263671875, 3719.8193359375, 3560.0224609375, 3535.65771484375, 3436.114013671875, 3347.646484375, 3204.083984375, 3076.000732421875, 2785.933837890625, 2777.80615234375, 5664.7998046875, 11624.400390625, 3824.997802734375, 3204.9775390625, 9134.8974609375, 7638.53662109375, 7281.07080078125, 6316.4697265625, 4592.6650390625, 4583.89990234375, 4536.5068359375, 4519.48193359375, 4422.2900390625, 4382.3056640625, 4177.28076171875, 4121.31494140625, 3823.98876953125, 3808.2021484375, 3771.26953125, 3760.984375, 3606.2666015625, 3331.0166015625, 3192.683837890625, 2627.25146484375, 2518.69140625, 2443.282470703125, 2303.23583984375, 2267.2001953125, 2215.497802734375, 2138.6015625, 2125.962890625, 2117.56396484375, 1997.666015625, 1980.403076171875, 3967.93408203125, 12577.400390625, 10179.6923828125, 7952.708984375, 5070.10693359375, 4748.24951171875, 4556.79736328125, 4232.16455078125, 4025.49169921875, 3861.837890625, 3719.38330078125, 3679.405517578125, 3619.041259765625, 3133.9306640625, 2962.924072265625, 2900.960205078125, 2882.701904296875, 2756.985107421875, 2679.0791015625, 2574.70654296875, 2569.549560546875, 2533.87060546875, 2426.13427734375, 2200.778076171875, 2176.34033203125, 2159.138427734375, 2128.644287109375, 2070.318603515625, 2042.681640625, 1740.456298828125, 1702.99560546875, 1864.5128173828125, 11424.2412109375, 9371.177734375, 8657.41015625, 5097.03662109375, 5160.19140625, 5058.26953125, 4562.98193359375, 4419.50146484375, 3900.613525390625, 3628.496826171875, 3512.18603515625, 3505.256103515625, 3467.90380859375, 3105.304931640625, 2770.334228515625, 2731.696044921875, 2674.267578125, 2534.337646484375, 2522.32861328125, 2390.3212890625, 2349.080810546875, 2175.0498046875, 2044.1732177734375, 2042.58251953125, 1945.6048583984375, 1930.2933349609375, 1914.36865234375, 1908.7177734375, 1870.9683837890625, 1865.7860107421875, 4022.162841796875, 5022.61669921875, 5077.28369140625, 3101.5205078125, 3007.59814453125, 4018.129150390625, 2195.96728515625, 11561.4462890625, 8471.490234375, 8276.7119140625, 7450.87451171875, 7407.064453125, 5369.06103515625, 4861.77294921875, 4298.1103515625, 4020.47314453125, 3934.138916015625, 3673.444091796875, 3649.380126953125, 3649.29345703125, 3329.69775390625, 3291.1416015625, 3170.980712890625, 3061.98876953125, 2886.259521484375, 2813.76318359375, 2646.9443359375, 2502.37451171875, 2293.446044921875, 2263.81982421875, 2244.072998046875, 2105.28271484375, 2093.770263671875, 1977.7879638671875, 1858.98876953125, 1804.161376953125, 1798.1138916015625, 2474.532470703125, 2308.701171875, 10408.3984375, 6700.1640625, 6637.88330078125, 6267.91845703125, 4889.77783203125, 4528.8056640625, 4518.5654296875, 4395.93408203125, 3953.3427734375, 3805.76171875, 3465.069580078125, 3436.1240234375, 3096.3623046875, 2862.40869140625, 2735.550537109375, 2699.413330078125, 2690.880859375, 2532.982177734375, 2379.68603515625, 2290.455078125, 2288.661865234375, 2216.80517578125, 2185.128173828125, 2128.940673828125, 2068.972900390625, 2061.293701171875, 2039.54736328125, 1975.1593017578125, 1867.3638916015625, 1814.4471435546875, 2355.28759765625, 1961.7119140625, 12289.23828125, 11016.5546875, 10031.1162109375, 7689.90771484375, 6536.50244140625, 6278.462890625, 6109.53173828125, 5528.24169921875, 5316.90673828125, 3025.226318359375, 2967.519287109375, 2962.222412109375, 2926.741455078125, 2816.07666015625, 2467.487060546875, 2358.417724609375, 2338.04296875, 2292.0537109375, 2236.541748046875, 2082.4580078125, 2057.776611328125, 1893.07177734375, 1832.0462646484375, 1815.12109375, 1751.187744140625, 1662.9208984375, 1629.1690673828125, 1621.963623046875, 1576.1121826171875, 1556.561279296875, 2669.31640625, 6183.50830078125, 1699.7569580078125, 33766.25, 6431.556640625, 6001.466796875, 5434.7705078125, 5156.67431640625, 4994.0087890625, 4511.14013671875, 4456.197265625, 4411.48193359375, 4394.46630859375, 3424.267578125, 3386.953125, 3275.437255859375, 3079.427490234375, 3050.810302734375, 2763.10009765625, 2681.562744140625, 2645.25439453125, 2580.667724609375, 2388.340576171875, 2296.740478515625, 2190.374267578125, 2127.62841796875, 2006.7078857421875, 1999.679443359375, 1986.9498291015625, 1979.5419921875, 1969.684326171875, 1882.829833984375, 1861.842041015625, 2642.202880859375, 2936.5537109375, 2404.7294921875, 2108.473388671875, 13405.375, 12473.5419921875, 10886.1240234375, 9581.4599609375, 7075.732421875, 6783.185546875, 5862.28564453125, 5546.4931640625, 4554.3623046875, 4548.19384765625, 4241.04443359375, 4100.0224609375, 3840.8916015625, 3709.161376953125, 3700.6337890625, 3624.063720703125, 3270.693603515625, 3111.333251953125, 2851.59326171875, 2742.6318359375, 2630.673828125, 2565.32763671875, 2506.03076171875, 2352.4267578125, 2032.0218505859375, 1878.208984375, 1875.2835693359375, 1850.7138671875, 1677.990966796875, 1667.6378173828125, 3806.388916015625, 4362.29443359375, 3190.466064453125, 2066.4072265625, 12882.0419921875, 8568.3173828125, 7639.04296875, 7440.90087890625, 6586.75537109375, 5676.92041015625, 5097.2158203125, 4733.3115234375, 4393.99072265625, 4058.05517578125, 3790.276123046875, 3769.798828125, 3566.35888671875, 3331.24853515625, 3163.13232421875, 2881.955078125, 2850.580810546875, 2815.2734375, 2458.9423828125, 2416.249267578125, 2337.47265625, 2248.647705078125, 2197.65380859375, 2115.879638671875, 2060.544677734375, 1957.9329833984375, 1908.0697021484375, 1890.1473388671875, 1743.7677001953125, 1706.2972412109375, 7428.833984375, 2756.190673828125, 11721.0791015625, 9408.4345703125, 6830.93798828125, 5808.91064453125, 5526.2900390625, 5279.544921875, 5013.88818359375, 5121.68896484375, 4868.529296875, 4694.138671875, 4573.75341796875, 4069.001220703125, 3950.980712890625, 3925.401611328125, 3908.597412109375, 3126.333740234375, 3035.180908203125, 2752.81689453125, 2436.6513671875, 2391.69091796875, 2389.591552734375, 2338.75830078125, 2332.636962890625, 2208.1640625, 2174.5927734375, 1985.908203125, 1897.8331298828125, 1884.9566650390625, 1788.749755859375, 1748.7628173828125, 1805.555419921875, 22465.068359375, 3829.93896484375, 4473.818359375, 3669.91455078125, 2750.23193359375, 2536.63330078125, 17614.4140625, 8811.59765625, 7098.08935546875, 5825.66357421875, 4937.6025390625, 4640.61572265625, 4635.72900390625, 4420.5341796875, 4331.56787109375, 4234.55224609375, 3802.93359375, 3781.549072265625, 3087.7197265625, 3029.489501953125, 3027.841552734375, 2984.5576171875, 2938.2734375, 2802.216796875, 2723.609130859375, 2673.165771484375, 2655.60009765625, 2568.164306640625, 2507.6201171875, 2496.06494140625, 2391.334716796875, 2383.9228515625, 2252.587158203125, 2061.5556640625, 2049.879638671875, 2019.6488037109375, 2456.6005859375, 2994.292724609375, 12525.107421875, 11888.724609375, 11035.763671875, 7618.03271484375, 7223.99609375, 6431.02294921875, 6093.28662109375, 5672.205078125, 4869.986328125, 4647.2021484375, 4454.51513671875, 4060.6943359375, 3294.8740234375, 3246.753662109375, 3114.269775390625, 2869.986083984375, 2722.38671875, 2435.28857421875, 2418.608642578125, 2383.510986328125, 2288.374267578125, 2224.686767578125, 2142.83984375, 1881.574462890625, 1869.0936279296875, 1747.32080078125, 1593.7330322265625, 1566.8616943359375, 1561.542236328125, 1552.805908203125, 7221.38720703125, 12143.068359375, 10472.271484375, 7762.537109375, 6908.89208984375, 5639.328125, 5530.697265625, 5499.6455078125, 4482.79345703125, 4307.470703125, 4117.375, 3866.975830078125, 3746.185302734375, 3741.8037109375, 3634.779296875, 3398.87158203125, 3348.25537109375, 3088.702392578125, 2996.159423828125, 2913.12548828125, 3971.2412109375, 2491.926513671875, 2482.5458984375, 2395.88623046875, 2311.041015625, 2150.05517578125, 2079.93798828125, 1993.930419921875, 1988.8443603515625, 1965.4161376953125, 1963.1534423828125, 5210.10498046875, 3323.67578125, 2879.011474609375, 2190.0458984375, 21867.7890625, 11078.1083984375, 7848.96337890625, 5635.01904296875, 4955.779296875, 4842.7734375, 4204.96923828125, 4017.2060546875, 3731.6162109375, 3593.864990234375, 3409.863525390625, 3132.134521484375, 2822.7626953125, 2750.992431640625, 2517.97119140625, 2365.298583984375, 2224.114990234375, 2183.179931640625, 1999.571533203125, 1976.569580078125, 1951.0478515625, 1919.414306640625, 1876.1439208984375, 1871.5814208984375, 1861.8670654296875, 1787.9677734375, 1782.6473388671875, 1693.4349365234375, 1599.5804443359375, 1594.5484619140625, 5934.97412109375, 1618.7103271484375], \"Term\": [\"say\", \"police\", \"australia\", \"australian\", \"government\", \"court\", \"sydney\", \"charge\", \"south\", \"queensland\", \"adelaide\", \"change\", \"perth\", \"melbourne\", \"attack\", \"election\", \"home\", \"crash\", \"canberra\", \"coast\", \"help\", \"face\", \"call\", \"open\", \"rural\", \"interview\", \"country\", \"murder\", \"live\", \"north\", \"australia\", \"test\", \"life\", \"take\", \"lead\", \"victoria\", \"industry\", \"mark\", \"time\", \"fail\", \"hunter\", \"newcastle\", \"central\", \"prison\", \"post\", \"black\", \"drop\", \"point\", \"threat\", \"fire\", \"investigation\", \"rally\", \"escape\", \"double\", \"wednesday\", \"aussie\", \"allegedly\", \"travel\", \"december\", \"level\", \"world\", \"court\", \"face\", \"jail\", \"drug\", \"accuse\", \"women\", \"trial\", \"children\", \"hear\", \"make\", \"injure\", \"french\", \"bali\", \"phone\", \"rape\", \"judge\", \"injury\", \"patients\", \"apologise\", \"science\", \"fraud\", \"senator\", \"york\", \"cars\", \"suffer\", \"roll\", \"stories\", \"girls\", \"bangladesh\", \"underway\", \"rule\", \"murder\", \"charge\", \"stab\", \"bash\", \"woman\", \"sentence\", \"death\", \"appeal\", \"canberra\", \"fight\", \"final\", \"train\", \"season\", \"come\", \"rail\", \"sexual\", \"march\", \"thousands\", \"hunt\", \"order\", \"line\", \"deaths\", \"london\", \"nation\", \"match\", \"follow\", \"fiji\", \"spot\", \"chris\", \"anzac\", \"volunteer\", \"april\", \"property\", \"growth\", \"economic\", \"watch\", \"army\", \"receive\", \"price\", \"mayor\", \"sydney\", \"melbourne\", \"attack\", \"shoot\", \"arrest\", \"dead\", \"assault\", \"case\", \"bank\", \"allege\", \"island\", \"program\", \"baby\", \"job\", \"mother\", \"officer\", \"suspect\", \"teen\", \"girl\", \"catch\", \"blame\", \"worker\", \"british\", \"stage\", \"raid\", \"siege\", \"breach\", \"custody\", \"teenager\", \"wife\", \"win\", \"police\", \"charge\", \"kill\", \"murder\", \"death\", \"health\", \"fund\", \"indigenous\", \"service\", \"minister\", \"need\", \"tell\", \"centre\", \"community\", \"release\", \"farmers\", \"john\", \"aboriginal\", \"risk\", \"study\", \"boost\", \"stop\", \"steal\", \"youth\", \"right\", \"mental\", \"cancer\", \"research\", \"kid\", \"welcome\", \"town\", \"drought\", \"scott\", \"dairy\", \"foreign\", \"world\", \"work\", \"group\", \"call\", \"council\", \"water\", \"national\", \"concern\", \"meet\", \"park\", \"want\", \"push\", \"vote\", \"victorian\", \"public\", \"residents\", \"future\", \"laws\", \"river\", \"chinese\", \"union\", \"safety\", \"raise\", \"opposition\", \"mount\", \"demand\", \"consider\", \"crisis\", \"outback\", \"ban\", \"nurse\", \"discuss\", \"question\", \"plan\", \"cut\", \"build\", \"brisbane\", \"hour\", \"leave\", \"return\", \"premier\", \"save\", \"workers\", \"energy\", \"second\", \"reveal\", \"million\", \"start\", \"challenge\", \"target\", \"northern\", \"climate\", \"sport\", \"great\", \"legal\", \"move\", \"friday\", \"footage\", \"control\", \"wild\", \"solar\", \"end\", \"players\", \"tackle\", \"pay\", \"global\", \"cost\", \"adelaide\", \"state\", \"power\", \"storm\", \"media\", \"western\", \"company\", \"festival\", \"beach\", \"australians\", \"cricket\", \"award\", \"fish\", \"prepare\", \"womens\", \"film\", \"best\", \"refugee\", \"victory\", \"sale\", \"major\", \"monday\", \"avoid\", \"clean\", \"pass\", \"pakistan\", \"dispute\", \"russian\", \"mackay\", \"shock\", \"win\", \"rural\", \"donald\", \"claim\", \"announce\", \"inquiry\", \"mine\", \"go\", \"deny\", \"senate\", \"number\", \"jam\", \"reject\", \"local\", \"crime\", \"send\", \"reform\", \"govt\", \"propose\", \"pressure\", \"data\", \"paul\", \"justice\", \"board\", \"billion\", \"small\", \"worry\", \"sack\", \"private\", \"happen\", \"base\", \"increase\", \"federal\", \"urge\", \"chief\", \"damage\", \"school\", \"plan\", \"coast\", \"rise\", \"tasmanian\", \"break\", \"gold\", \"violence\", \"hill\", \"defend\", \"team\", \"coal\", \"security\", \"cyclone\", \"domestic\", \"white\", \"amid\", \"name\", \"airport\", \"rate\", \"bushfire\", \"flight\", \"blue\", \"thursday\", \"remember\", \"explain\", \"families\", \"drone\", \"olympic\", \"card\", \"reduce\", \"check\", \"fin\", \"victims\", \"live\", \"guilty\", \"farm\", \"beat\", \"trade\", \"free\", \"christmas\", \"plead\", \"offer\", \"cattle\", \"unite\", \"islamic\", \"expect\", \"england\", \"honour\", \"export\", \"wind\", \"leaders\", \"paris\", \"see\", \"spend\", \"prompt\", \"farmer\", \"horse\", \"strong\", \"love\", \"night\", \"bendigo\", \"fuel\", \"general\", \"hope\", \"affect\", \"perth\", \"interview\", \"miss\", \"turnbull\", \"force\", \"search\", \"near\", \"head\", \"body\", \"pacific\", \"money\", \"boat\", \"plant\", \"suicide\", \"rock\", \"round\", \"female\", \"clinton\", \"safe\", \"capital\", \"blast\", \"remove\", \"indonesian\", \"inside\", \"fly\", \"career\", \"press\", \"bird\", \"biggest\", \"discover\", \"bomb\", \"kill\", \"shop\", \"say\", \"talk\", \"game\", \"young\", \"star\", \"korea\", \"rat\", \"president\", \"marriage\", \"food\", \"threaten\", \"decision\", \"visit\", \"social\", \"boss\", \"detention\", \"indonesia\", \"valley\", \"step\", \"military\", \"ready\", \"days\", \"soldier\", \"space\", \"keep\", \"block\", \"financial\", \"nuclear\", \"citizenship\", \"leak\", \"stand\", \"action\", \"asylum\", \"promise\", \"queensland\", \"election\", \"north\", \"year\", \"share\", \"high\", \"budget\", \"show\", \"business\", \"campaign\", \"week\", \"turn\", \"regional\", \"doctor\", \"hit\", \"michael\", \"abbott\", \"remain\", \"sell\", \"grandstand\", \"grow\", \"zealand\", \"result\", \"slam\", \"online\", \"early\", \"survey\", \"poll\", \"lake\", \"economy\", \"review\", \"west\", \"market\", \"report\", \"south\", \"years\", \"child\", \"record\", \"fall\", \"close\", \"party\", \"give\", \"australias\", \"parliament\", \"issue\", \"debate\", \"care\", \"super\", \"celebrate\", \"political\", \"parent\", \"liberal\", \"reach\", \"fan\", \"age\", \"waste\", \"syrian\", \"cross\", \"dump\", \"run\", \"finals\", \"student\", \"treatment\", \"indian\", \"market\", \"wall\", \"help\", \"hospital\", \"abuse\", \"royal\", \"drum\", \"race\", \"commission\", \"seek\", \"driver\", \"speak\", \"drive\", \"investigate\", \"truck\", \"inquest\", \"club\", \"staff\", \"know\", \"victim\", \"church\", \"liberals\", \"refugees\", \"suspend\", \"drink\", \"development\", \"drivers\", \"traffic\", \"bishop\", \"killer\", \"crowd\", \"bear\", \"terrorism\", \"police\", \"launch\", \"fear\", \"sentence\", \"appeal\", \"death\", \"government\", \"china\", \"league\", \"city\", \"station\", \"strike\", \"land\", \"weather\", \"play\", \"rugby\", \"tour\", \"india\", \"join\", \"russia\", \"back\", \"track\", \"confirm\", \"grant\", \"politics\", \"title\", \"september\", \"japan\", \"loss\", \"ash\", \"origin\", \"create\", \"june\", \"disease\", \"refuse\", \"wallabies\", \"clear\", \"world\", \"change\", \"home\", \"country\", \"deal\", \"lose\", \"news\", \"support\", \"port\", \"protest\", \"shark\", \"project\", \"sign\", \"syria\", \"long\", \"international\", \"burn\", \"tree\", \"good\", \"dog\", \"extend\", \"stay\", \"july\", \"creek\", \"contract\", \"flag\", \"higher\", \"crow\", \"allow\", \"term\", \"mean\", \"woman\", \"crash\", \"die\", \"people\", \"flood\", \"find\", \"darwin\", \"road\", \"east\", \"street\", \"battle\", \"light\", \"cause\", \"bring\", \"peter\", \"leader\", \"grand\", \"emergency\", \"plane\", \"smith\", \"fatal\", \"struggle\", \"like\", \"music\", \"crop\", \"scientists\", \"walk\", \"collapse\", \"protect\", \"rare\", \"put\", \"death\", \"house\", \"kill\", \"probe\", \"australian\", \"open\", \"tasmania\", \"green\", \"hobart\", \"students\", \"rescue\", \"link\", \"anti\", \"video\", \"coach\", \"history\", \"hop\", \"draw\", \"november\", \"spring\", \"clash\", \"condition\", \"bridge\", \"criticise\", \"improve\", \"seat\", \"seven\", \"whale\", \"townsville\", \"protesters\", \"alice\", \"critical\", \"lawyer\", \"player\", \"labor\", \"education\"], \"Total\": [33767.0, 32842.0, 25590.0, 21868.0, 17615.0, 18310.0, 16171.0, 19072.0, 12883.0, 13406.0, 12578.0, 12526.0, 12290.0, 12818.0, 12763.0, 12474.0, 11889.0, 12144.0, 11416.0, 11562.0, 11722.0, 11943.0, 12841.0, 11079.0, 11425.0, 11017.0, 11036.0, 13157.0, 10409.0, 10887.0, 25590.55859375, 9796.3603515625, 6698.177734375, 6630.73291015625, 5789.43603515625, 5659.07666015625, 4995.7919921875, 3980.68310546875, 7341.4814453125, 3899.65625, 3863.738037109375, 3816.249755859375, 3413.248046875, 3373.34423828125, 3199.93408203125, 3192.10498046875, 3021.368896484375, 3012.41650390625, 2872.447265625, 2840.27783203125, 2705.1220703125, 2642.373291015625, 2455.70751953125, 2333.74853515625, 2303.983154296875, 2260.65283203125, 2067.224365234375, 2061.213134765625, 1970.216552734375, 1848.3917236328125, 13505.5947265625, 18310.6640625, 11943.1728515625, 9964.6142578125, 8975.86328125, 8869.873046875, 7302.7353515625, 7236.18408203125, 6167.236328125, 5950.02978515625, 5000.740234375, 4288.14501953125, 2673.994873046875, 2227.334716796875, 2066.380615234375, 2034.3603515625, 1892.8392333984375, 1881.228759765625, 1855.356689453125, 1831.0194091796875, 1808.3194580078125, 1750.40966796875, 1737.793701171875, 1675.642822265625, 1643.8521728515625, 1538.7054443359375, 1513.4295654296875, 1480.3079833984375, 1472.9969482421875, 1399.962158203125, 1397.9329833984375, 5020.86572265625, 13157.8173828125, 19072.00390625, 4151.279296875, 1993.844970703125, 11581.76171875, 6618.08740234375, 12649.2099609375, 4669.3076171875, 11416.822265625, 7913.33740234375, 7475.68603515625, 7062.8095703125, 4987.07861328125, 3665.884521484375, 3395.84130859375, 3172.472900390625, 3145.1318359375, 3129.85693359375, 2895.4296875, 2701.064697265625, 2599.837158203125, 2546.49609375, 2529.98828125, 2470.522705078125, 2466.947265625, 2410.113525390625, 2327.624755859375, 2158.658447265625, 2144.052978515625, 2133.78125, 2031.8216552734375, 2009.25537109375, 1977.530517578125, 1894.8695068359375, 1870.6990966796875, 1843.1942138671875, 1825.5086669921875, 1717.9305419921875, 7993.8173828125, 3508.233642578125, 16171.1142578125, 12818.642578125, 12763.9658203125, 8365.625, 7353.94873046875, 6395.0458984375, 5870.43212890625, 5847.93994140625, 5758.6533203125, 5347.5517578125, 5169.37109375, 4769.6748046875, 4183.6669921875, 4099.3427734375, 3989.290283203125, 3687.746337890625, 3459.5380859375, 3073.5927734375, 2905.8349609375, 2638.552001953125, 2179.676025390625, 2064.751953125, 1893.5604248046875, 1794.371337890625, 2453.968017578125, 1531.1820068359375, 1489.852783203125, 1467.3822021484375, 1430.591552734375, 1412.8311767578125, 8327.3818359375, 32842.9140625, 19072.00390625, 13073.7666015625, 13157.8173828125, 12649.2099609375, 9883.0400390625, 10216.3193359375, 8307.4013671875, 7903.45166015625, 7828.1201171875, 6772.154296875, 6612.595703125, 6259.9130859375, 5848.5576171875, 5809.58837890625, 5552.095703125, 5375.974609375, 4870.2783203125, 4655.3056640625, 4474.26416015625, 4334.59423828125, 3903.076416015625, 3890.1298828125, 3784.111572265625, 3738.68310546875, 3664.756591796875, 3627.721923828125, 3286.632568359375, 3260.52880859375, 3235.066650390625, 3175.263427734375, 3101.426513671875, 2785.298828125, 2669.114990234375, 2470.169921875, 13505.5947265625, 7848.03662109375, 5990.45458984375, 12841.1875, 11373.8408203125, 9536.1826171875, 8812.0927734375, 8384.767578125, 7803.0068359375, 7278.9951171875, 6834.79736328125, 6677.80810546875, 6597.8623046875, 6291.310546875, 6208.8427734375, 5688.8046875, 5624.45947265625, 5193.18359375, 4835.2919921875, 4630.41162109375, 4202.25244140625, 4074.18994140625, 3967.5146484375, 3720.8076171875, 3561.010986328125, 3536.64599609375, 3437.10595703125, 3348.634765625, 3205.072265625, 3076.989013671875, 2786.922119140625, 2778.79443359375, 5666.82177734375, 16250.5517578125, 4801.4794921875, 5683.1875, 9135.89453125, 7639.53564453125, 7282.06982421875, 6317.46875, 4593.6640625, 4584.89892578125, 4537.505859375, 4520.48095703125, 4423.2890625, 4383.3046875, 4178.27978515625, 4122.31396484375, 3824.9873046875, 3809.20068359375, 3772.26806640625, 3761.98291015625, 3607.26513671875, 3332.01513671875, 3193.682373046875, 2628.25, 2519.68994140625, 2444.281005859375, 2304.234375, 2268.19873046875, 2216.496337890625, 2139.60009765625, 2126.96142578125, 2118.5625, 1998.66455078125, 1981.401611328125, 3973.840087890625, 12578.3955078125, 10180.6875, 7953.70947265625, 5071.103515625, 4749.24609375, 4557.7939453125, 4233.1611328125, 4026.48779296875, 3862.833984375, 3720.37939453125, 3680.401611328125, 3620.037353515625, 3134.9267578125, 2963.920166015625, 2901.956298828125, 2883.697998046875, 2757.981201171875, 2680.0751953125, 2575.70263671875, 2570.545654296875, 2534.86669921875, 2427.13037109375, 2201.774169921875, 2177.33642578125, 2160.134521484375, 2129.640380859375, 2071.314697265625, 2043.677734375, 1741.452392578125, 1703.99169921875, 8327.3818359375, 11425.23046875, 9372.1669921875, 8658.3994140625, 5098.02685546875, 5161.1982421875, 5059.259765625, 4563.97216796875, 4420.49560546875, 3901.60400390625, 3629.4873046875, 3513.176513671875, 3506.24658203125, 3468.894287109375, 3106.29541015625, 2771.32470703125, 2732.6865234375, 2675.258056640625, 2535.328125, 2523.319091796875, 2391.311767578125, 2350.0712890625, 2176.040283203125, 2045.1634521484375, 2043.57275390625, 1946.5950927734375, 1931.2835693359375, 1915.35888671875, 1909.7080078125, 1871.9586181640625, 1866.7762451171875, 4033.20947265625, 6447.62548828125, 6924.421875, 3993.5263671875, 4257.689453125, 11717.162109375, 16250.5517578125, 11562.4423828125, 8472.486328125, 8277.7080078125, 7451.87158203125, 7408.0615234375, 5370.05810546875, 4862.77001953125, 4299.107421875, 4021.469970703125, 3935.1357421875, 3674.44091796875, 3650.376953125, 3650.290283203125, 3330.694580078125, 3292.138427734375, 3171.9775390625, 3062.985595703125, 2887.25634765625, 2814.760009765625, 2647.941162109375, 2503.371337890625, 2294.44287109375, 2264.816650390625, 2245.06982421875, 2106.279541015625, 2094.76708984375, 1978.78466796875, 1859.9854736328125, 1805.1580810546875, 1799.110595703125, 2959.89990234375, 3306.298828125, 10409.390625, 6701.15771484375, 6638.876953125, 6268.912109375, 4890.771484375, 4529.79931640625, 4519.55908203125, 4396.927734375, 3954.3359375, 3806.7548828125, 3466.062744140625, 3437.1171875, 3097.35546875, 2863.40185546875, 2736.543701171875, 2700.406494140625, 2691.8740234375, 2533.975341796875, 2380.67919921875, 2291.4482421875, 2289.655029296875, 2217.79833984375, 2186.121337890625, 2129.933837890625, 2069.966064453125, 2062.286865234375, 2040.5404052734375, 1976.15234375, 1868.35693359375, 1815.440185546875, 2358.974609375, 1963.6005859375, 12290.23046875, 11017.546875, 10032.1083984375, 7690.900390625, 6537.4951171875, 6279.45556640625, 6110.5244140625, 5529.234375, 5317.8994140625, 3026.218994140625, 2968.511962890625, 2963.215087890625, 2927.734130859375, 2817.0693359375, 2468.479736328125, 2359.410400390625, 2339.03564453125, 2293.04638671875, 2237.534423828125, 2083.45068359375, 2058.769287109375, 1894.064208984375, 1833.038818359375, 1816.113525390625, 1752.18017578125, 1663.913330078125, 1630.1614990234375, 1622.9560546875, 1577.1046142578125, 1557.5537109375, 3534.618408203125, 13073.7666015625, 2365.751953125, 33767.24609375, 6432.5498046875, 6002.4599609375, 5435.763671875, 5157.67138671875, 4995.001953125, 4512.13330078125, 4457.1904296875, 4412.47509765625, 4395.46630859375, 3425.2607421875, 3387.94677734375, 3276.430419921875, 3080.420654296875, 3051.803466796875, 2764.09326171875, 2682.555908203125, 2646.24755859375, 2581.660888671875, 2389.333740234375, 2297.733642578125, 2191.367431640625, 2128.62158203125, 2007.7008056640625, 2000.67236328125, 1987.9427490234375, 1980.534912109375, 1970.67724609375, 1883.82275390625, 1862.8349609375, 3577.1220703125, 4528.4287109375, 3379.98681640625, 2823.8603515625, 13406.375, 12474.5419921875, 10887.1240234375, 9582.4599609375, 7076.751953125, 6784.18701171875, 5863.287109375, 5547.49462890625, 4555.36376953125, 4549.19580078125, 4242.0458984375, 4101.02392578125, 3841.89306640625, 3710.162841796875, 3701.63525390625, 3625.065185546875, 3271.695068359375, 3112.337890625, 2852.5947265625, 2743.63330078125, 2631.67529296875, 2566.3291015625, 2507.0322265625, 2353.42822265625, 2033.0230712890625, 1879.210205078125, 1876.2847900390625, 1851.715087890625, 1678.9921875, 1668.6390380859375, 5167.57568359375, 7404.13623046875, 10620.251953125, 11900.837890625, 12883.0400390625, 8569.3154296875, 7640.04248046875, 7441.900390625, 6587.7548828125, 5677.919921875, 5098.21533203125, 4734.31103515625, 4394.990234375, 4059.053955078125, 3791.27490234375, 3770.797607421875, 3567.357666015625, 3332.247314453125, 3164.131103515625, 2882.953857421875, 2851.57958984375, 2816.272216796875, 2459.941162109375, 2417.248046875, 2338.471435546875, 2249.646484375, 2198.652587890625, 2116.87841796875, 2061.54345703125, 1958.931640625, 1909.068359375, 1891.14599609375, 1744.766357421875, 1707.2960205078125, 10620.251953125, 3967.5615234375, 11722.0703125, 9409.42578125, 6831.9306640625, 5809.9033203125, 5527.28271484375, 5280.53759765625, 5014.880859375, 5122.705078125, 4869.52197265625, 4695.13134765625, 4574.74609375, 4069.9931640625, 3951.97265625, 3926.3935546875, 3909.58935546875, 3127.32568359375, 3036.1728515625, 2753.808837890625, 2437.643310546875, 2392.682861328125, 2390.58349609375, 2339.750244140625, 2333.62890625, 2209.156005859375, 2175.584716796875, 1986.900146484375, 1898.8250732421875, 1885.9486083984375, 1789.74169921875, 1749.7547607421875, 1806.69091796875, 32842.9140625, 4897.8310546875, 6337.267578125, 6618.08740234375, 4669.3076171875, 12649.2099609375, 17615.41015625, 8812.5927734375, 7099.0859375, 5826.66015625, 4938.59912109375, 4641.6123046875, 4636.7314453125, 4421.53076171875, 4332.564453125, 4235.548828125, 3803.929931640625, 3782.54541015625, 3088.7158203125, 3030.485595703125, 3028.837646484375, 2985.5537109375, 2939.26953125, 2803.212890625, 2724.605224609375, 2674.161865234375, 2656.59619140625, 2569.160400390625, 2508.6162109375, 2497.06103515625, 2392.330810546875, 2384.9189453125, 2253.583251953125, 2062.5517578125, 2050.875732421875, 2020.6448974609375, 2543.263916015625, 13505.5947265625, 12526.1015625, 11889.71875, 11036.7578125, 7619.02783203125, 7224.9912109375, 6432.01806640625, 6094.28173828125, 5673.2001953125, 4870.9814453125, 4648.197265625, 4455.5107421875, 4061.689208984375, 3295.868896484375, 3247.748779296875, 3115.2646484375, 2870.98095703125, 2723.381591796875, 2436.283447265625, 2419.603515625, 2384.505859375, 2289.369140625, 2225.681640625, 2143.834716796875, 1882.5692138671875, 1870.08837890625, 1748.3155517578125, 1594.727783203125, 1567.8564453125, 1562.5369873046875, 1553.8006591796875, 11581.76171875, 12144.0625, 10473.265625, 7763.53173828125, 6909.88671875, 5640.32275390625, 5531.69189453125, 5500.64013671875, 4483.7880859375, 4308.46533203125, 4118.36962890625, 3867.970703125, 3747.18017578125, 3742.798583984375, 3635.774169921875, 3399.866455078125, 3349.250244140625, 3089.697265625, 2997.154296875, 2914.120361328125, 3972.638916015625, 2492.92138671875, 2483.540771484375, 2396.881103515625, 2312.035888671875, 2151.050048828125, 2080.932861328125, 1994.9251708984375, 1989.839111328125, 1966.410888671875, 1964.148193359375, 12649.2099609375, 12574.3994140625, 13073.7666015625, 3330.28759765625, 21868.78515625, 11079.10546875, 7849.9599609375, 5636.015625, 4956.77587890625, 4843.77001953125, 4205.9658203125, 4018.20263671875, 3732.61279296875, 3594.861572265625, 3410.860107421875, 3133.131103515625, 2823.75927734375, 2751.989013671875, 2518.9677734375, 2366.295166015625, 2225.111572265625, 2184.176513671875, 2000.568115234375, 1977.566162109375, 1952.04443359375, 1920.410888671875, 1877.1405029296875, 1872.5780029296875, 1862.8636474609375, 1788.96435546875, 1783.6439208984375, 1694.4315185546875, 1600.5770263671875, 1595.5450439453125, 7805.5068359375, 2538.095947265625], \"loglift\": [30.0, 29.0, 28.0, 27.0, 26.0, 25.0, 24.0, 23.0, 22.0, 21.0, 20.0, 19.0, 18.0, 17.0, 16.0, 15.0, 14.0, 13.0, 12.0, 11.0, 10.0, 9.0, 8.0, 7.0, 6.0, 5.0, 4.0, 3.0, 2.0, 1.0, 2.99180006980896, 2.9916999340057373, 2.9916999340057373, 2.9916999340057373, 2.9916999340057373, 2.9916999340057373, 2.9916000366210938, 2.9916000366210938, 2.9916000366210938, 2.9916000366210938, 2.9916000366210938, 2.9916000366210938, 2.9916000366210938, 2.991499900817871, 2.991499900817871, 2.991499900817871, 2.991499900817871, 2.991499900817871, 2.991499900817871, 2.991499900817871, 2.991499900817871, 2.991499900817871, 2.9914000034332275, 2.9914000034332275, 2.9914000034332275, 2.9914000034332275, 2.9914000034332275, 2.9914000034332275, 2.991300106048584, 2.991300106048584, 1.1361000537872314, 2.924099922180176, 2.924099922180176, 2.924099922180176, 2.9240000247955322, 2.9240000247955322, 2.9240000247955322, 2.9240000247955322, 2.9240000247955322, 2.9240000247955322, 2.9240000247955322, 2.9238998889923096, 2.923799991607666, 2.9237000942230225, 2.9237000942230225, 2.9237000942230225, 2.9235999584198, 2.9235999584198, 2.9235999584198, 2.9235999584198, 2.9235999584198, 2.9235999584198, 2.9235999584198, 2.9235999584198, 2.9235000610351562, 2.9235000610351562, 2.9235000610351562, 2.9235000610351562, 2.9235000610351562, 2.9233999252319336, 2.9233999252319336, 2.922100067138672, 2.7495999336242676, 2.622499942779541, 2.66759991645813, 2.814300060272217, 1.947100043296814, 2.1152000427246094, 1.504699945449829, 2.0344998836517334, 3.137200117111206, 3.1370999813079834, 3.1370999813079834, 3.1370999813079834, 3.1370999813079834, 3.13700008392334, 3.13700008392334, 3.136899948120117, 3.136899948120117, 3.136899948120117, 3.136899948120117, 3.136899948120117, 3.136899948120117, 3.136899948120117, 3.136899948120117, 3.1368000507354736, 3.1368000507354736, 3.1368000507354736, 3.1368000507354736, 3.1368000507354736, 3.1368000507354736, 3.1368000507354736, 3.1368000507354736, 3.1368000507354736, 3.136699914932251, 3.136699914932251, 3.136699914932251, 3.136699914932251, 3.136699914932251, 3.136699914932251, 2.8169000148773193, 2.748500108718872, 2.935699939727783, 2.9356000423431396, 2.9356000423431396, 2.9356000423431396, 2.9356000423431396, 2.9356000423431396, 2.9356000423431396, 2.9356000423431396, 2.9356000423431396, 2.935499906539917, 2.935499906539917, 2.935499906539917, 2.935499906539917, 2.935499906539917, 2.935499906539917, 2.935499906539917, 2.9354000091552734, 2.9354000091552734, 2.9354000091552734, 2.93530011177063, 2.93530011177063, 2.9351999759674072, 2.9351999759674072, 2.9351999759674072, 2.9351000785827637, 2.9351000785827637, 2.9351000785827637, 2.934999942779541, 2.934999942779541, 2.934999942779541, 2.6821000576019287, 1.7835999727249146, 1.5901000499725342, 1.371500015258789, 1.103600025177002, 1.0092999935150146, 2.781599998474121, 2.781599998474121, 2.7815001010894775, 2.7815001010894775, 2.7815001010894775, 2.7815001010894775, 2.7815001010894775, 2.7815001010894775, 2.7815001010894775, 2.7815001010894775, 2.7815001010894775, 2.7815001010894775, 2.7815001010894775, 2.781399965286255, 2.781399965286255, 2.781399965286255, 2.781399965286255, 2.781399965286255, 2.781399965286255, 2.781399965286255, 2.781399965286255, 2.781399965286255, 2.781399965286255, 2.781399965286255, 2.781399965286255, 2.7813000679016113, 2.7813000679016113, 2.7813000679016113, 2.7813000679016113, 2.7813000679016113, 2.3066999912261963, 2.43530011177063, 2.092600107192993, 2.698899984359741, 2.698899984359741, 2.698899984359741, 2.698899984359741, 2.698899984359741, 2.698899984359741, 2.6988000869750977, 2.6988000869750977, 2.6988000869750977, 2.6988000869750977, 2.6988000869750977, 2.6988000869750977, 2.6988000869750977, 2.6988000869750977, 2.6988000869750977, 2.6988000869750977, 2.6988000869750977, 2.698699951171875, 2.698699951171875, 2.698699951171875, 2.698699951171875, 2.698699951171875, 2.698699951171875, 2.698699951171875, 2.698699951171875, 2.698699951171875, 2.698699951171875, 2.6986000537872314, 2.6986000537872314, 2.6986000537872314, 2.364000082015991, 2.47160005569458, 2.126199960708618, 3.050100088119507, 3.049999952316284, 3.049999952316284, 3.049999952316284, 3.049999952316284, 3.049999952316284, 3.049999952316284, 3.049999952316284, 3.049999952316284, 3.049999952316284, 3.0499000549316406, 3.0499000549316406, 3.0499000549316406, 3.0499000549316406, 3.0499000549316406, 3.0499000549316406, 3.0499000549316406, 3.0499000549316406, 3.0499000549316406, 3.049799919128418, 3.049799919128418, 3.049799919128418, 3.0497000217437744, 3.0497000217437744, 3.0497000217437744, 3.0497000217437744, 3.0497000217437744, 3.0497000217437744, 3.0497000217437744, 3.0497000217437744, 3.0487000942230225, 3.088099956512451, 3.088099956512451, 3.088099956512451, 3.0880000591278076, 3.0880000591278076, 3.0880000591278076, 3.0880000591278076, 3.0880000591278076, 3.0880000591278076, 3.087899923324585, 3.087899923324585, 3.087899923324585, 3.087899923324585, 3.087899923324585, 3.087899923324585, 3.087899923324585, 3.087899923324585, 3.0878000259399414, 3.0878000259399414, 3.0878000259399414, 3.0878000259399414, 3.0878000259399414, 3.0878000259399414, 3.0878000259399414, 3.0878000259399414, 3.0876998901367188, 3.0876998901367188, 3.0876998901367188, 3.087599992752075, 3.087599992752075, 1.5916999578475952, 2.975100040435791, 2.975100040435791, 2.975100040435791, 2.9749999046325684, 2.9749999046325684, 2.9749999046325684, 2.9749999046325684, 2.9749999046325684, 2.974900007247925, 2.974900007247925, 2.974900007247925, 2.974900007247925, 2.974900007247925, 2.974900007247925, 2.9748001098632812, 2.9748001098632812, 2.9748001098632812, 2.9748001098632812, 2.9748001098632812, 2.9748001098632812, 2.9748001098632812, 2.9746999740600586, 2.9746999740600586, 2.9746999740600586, 2.9746999740600586, 2.9746999740600586, 2.9746999740600586, 2.9746999740600586, 2.9746999740600586, 2.9746999740600586, 2.9725000858306885, 2.725399971008301, 2.664900064468384, 2.722399950027466, 2.6275999546051025, 1.9049999713897705, 0.9736999869346619, 3.0450000762939453, 3.0448999404907227, 3.0448999404907227, 3.0448999404907227, 3.0448999404907227, 3.0448999404907227, 3.044800043106079, 3.044800043106079, 3.044800043106079, 3.044800043106079, 3.044800043106079, 3.044800043106079, 3.044800043106079, 3.0446999073028564, 3.0446999073028564, 3.0446999073028564, 3.0446999073028564, 3.0446999073028564, 3.0446999073028564, 3.0446999073028564, 3.0446999073028564, 3.044600009918213, 3.044600009918213, 3.044600009918213, 3.044600009918213, 3.044600009918213, 3.0445001125335693, 3.0445001125335693, 3.0445001125335693, 3.0445001125335693, 2.8659000396728516, 2.6858999729156494, 3.124300003051758, 3.124300003051758, 3.124300003051758, 3.124300003051758, 3.1242001056671143, 3.1242001056671143, 3.1242001056671143, 3.1242001056671143, 3.1242001056671143, 3.1242001056671143, 3.1240999698638916, 3.1240999698638916, 3.1240999698638916, 3.1240999698638916, 3.1240999698638916, 3.1240999698638916, 3.1240999698638916, 3.124000072479248, 3.124000072479248, 3.124000072479248, 3.124000072479248, 3.124000072479248, 3.124000072479248, 3.124000072479248, 3.1238999366760254, 3.1238999366760254, 3.1238999366760254, 3.1238999366760254, 3.1238999366760254, 3.1238999366760254, 3.1229000091552734, 3.123500108718872, 3.063499927520752, 3.063499927520752, 3.063499927520752, 3.0634000301361084, 3.0634000301361084, 3.0634000301361084, 3.0634000301361084, 3.0634000301361084, 3.0634000301361084, 3.063199996948242, 3.063199996948242, 3.063199996948242, 3.063199996948242, 3.063199996948242, 3.063199996948242, 3.0631000995635986, 3.0631000995635986, 3.0631000995635986, 3.0631000995635986, 3.0631000995635986, 3.0631000995635986, 3.062999963760376, 3.062999963760376, 3.062999963760376, 3.062999963760376, 3.062999963760376, 3.062999963760376, 3.062999963760376, 3.0629000663757324, 3.0629000663757324, 2.7827999591827393, 2.3148000240325928, 2.7330000400543213, 3.0148000717163086, 3.014699935913086, 3.014699935913086, 3.014699935913086, 3.014699935913086, 3.014699935913086, 3.0146000385284424, 3.0146000385284424, 3.0146000385284424, 3.0146000385284424, 3.0146000385284424, 3.0146000385284424, 3.0146000385284424, 3.0144999027252197, 3.0144999027252197, 3.0144999027252197, 3.0144999027252197, 3.0144999027252197, 3.0144999027252197, 3.014400005340576, 3.014400005340576, 3.014400005340576, 3.014400005340576, 3.014400005340576, 3.014400005340576, 3.014400005340576, 3.014400005340576, 3.014400005340576, 3.0143001079559326, 3.0143001079559326, 2.711899995803833, 2.581700086593628, 2.6744000911712646, 2.7227001190185547, 2.934000015258789, 2.934000015258789, 2.934000015258789, 2.9339001178741455, 2.9339001178741455, 2.9339001178741455, 2.9339001178741455, 2.9339001178741455, 2.933799982070923, 2.933799982070923, 2.933799982070923, 2.933799982070923, 2.933799982070923, 2.933799982070923, 2.933799982070923, 2.933799982070923, 2.9337000846862793, 2.9337000846862793, 2.9337000846862793, 2.9337000846862793, 2.9337000846862793, 2.9337000846862793, 2.9335999488830566, 2.9335999488830566, 2.9335999488830566, 2.933500051498413, 2.933500051498413, 2.933500051498413, 2.9333999156951904, 2.9333999156951904, 2.6282999515533447, 2.4049999713897705, 1.7314000129699707, 1.1832000017166138, 3.0831000804901123, 3.0831000804901123, 3.0831000804901123, 3.0831000804901123, 3.0829999446868896, 3.0829999446868896, 3.0829999446868896, 3.0829999446868896, 3.0829999446868896, 3.0829999446868896, 3.082900047302246, 3.082900047302246, 3.082900047302246, 3.082900047302246, 3.082900047302246, 3.082900047302246, 3.0827999114990234, 3.0827999114990234, 3.0827999114990234, 3.0827999114990234, 3.0827999114990234, 3.0827999114990234, 3.08270001411438, 3.08270001411438, 3.08270001411438, 3.08270001411438, 3.08270001411438, 3.08270001411438, 3.0826001167297363, 3.0826001167297363, 2.725800037384033, 2.718899965286255, 2.983299970626831, 2.983299970626831, 2.983299970626831, 2.9832000732421875, 2.9832000732421875, 2.9832000732421875, 2.9832000732421875, 2.9832000732421875, 2.9832000732421875, 2.9832000732421875, 2.9832000732421875, 2.9832000732421875, 2.9832000732421875, 2.9832000732421875, 2.9832000732421875, 2.983099937438965, 2.983099937438965, 2.9830000400543213, 2.9830000400543213, 2.9830000400543213, 2.9830000400543213, 2.9830000400543213, 2.9830000400543213, 2.9830000400543213, 2.9830000400543213, 2.9828999042510986, 2.9828999042510986, 2.9828999042510986, 2.9828999042510986, 2.982800006866455, 2.982800006866455, 2.603600025177002, 2.737499952316284, 2.635200023651123, 2.3938000202178955, 2.4540998935699463, 1.3766000270843506, 3.077500104904175, 3.077399969100952, 3.077399969100952, 3.077399969100952, 3.0773000717163086, 3.0773000717163086, 3.0773000717163086, 3.0773000717163086, 3.0773000717163086, 3.0773000717163086, 3.0773000717163086, 3.0773000717163086, 3.077199935913086, 3.077199935913086, 3.077199935913086, 3.077199935913086, 3.077199935913086, 3.077199935913086, 3.077199935913086, 3.077199935913086, 3.077199935913086, 3.0771000385284424, 3.0771000385284424, 3.0771000385284424, 3.0771000385284424, 3.0771000385284424, 3.0771000385284424, 3.0771000385284424, 3.0769999027252197, 3.0769999027252197, 3.0429000854492188, 1.5710999965667725, 3.053800106048584, 3.053800106048584, 3.053800106048584, 3.053800106048584, 3.053800106048584, 3.053800106048584, 3.053800106048584, 3.0536999702453613, 3.0536999702453613, 3.0536999702453613, 3.0536999702453613, 3.0536999702453613, 3.0536000728607178, 3.0536000728607178, 3.0536000728607178, 3.0536000728607178, 3.053499937057495, 3.053499937057495, 3.053499937057495, 3.053499937057495, 3.053499937057495, 3.053499937057495, 3.0534000396728516, 3.0534000396728516, 3.0534000396728516, 3.053299903869629, 3.053299903869629, 3.053299903869629, 3.053299903869629, 3.053299903869629, 2.5815000534057617, 2.9593000411987305, 2.9593000411987305, 2.9593000411987305, 2.959199905395508, 2.959199905395508, 2.959199905395508, 2.959199905395508, 2.959199905395508, 2.959199905395508, 2.9591000080108643, 2.9591000080108643, 2.9591000080108643, 2.9591000080108643, 2.9591000080108643, 2.9591000080108643, 2.9591000080108643, 2.9591000080108643, 2.9591000080108643, 2.9590001106262207, 2.9590001106262207, 2.9590001106262207, 2.9590001106262207, 2.9590001106262207, 2.9590001106262207, 2.958899974822998, 2.958899974822998, 2.958899974822998, 2.958899974822998, 2.958899974822998, 2.958899974822998, 2.0724000930786133, 1.6288000345230103, 1.4462000131607056, 2.5401999950408936, 3.1149001121520996, 3.1149001121520996, 3.1149001121520996, 3.114799976348877, 3.114799976348877, 3.114799976348877, 3.114799976348877, 3.1147000789642334, 3.1147000789642334, 3.1147000789642334, 3.1147000789642334, 3.1147000789642334, 3.1145999431610107, 3.1145999431610107, 3.1145999431610107, 3.1145999431610107, 3.114500045776367, 3.114500045776367, 3.114500045776367, 3.114500045776367, 3.114500045776367, 3.114500045776367, 3.114500045776367, 3.114500045776367, 3.114500045776367, 3.1143999099731445, 3.1143999099731445, 3.1143999099731445, 3.1143999099731445, 3.1143999099731445, 2.8410000801086426, 2.6651999950408936], \"logprob\": [30.0, 29.0, 28.0, 27.0, 26.0, 25.0, 24.0, 23.0, 22.0, 21.0, 20.0, 19.0, 18.0, 17.0, 16.0, 15.0, 14.0, 13.0, 12.0, 11.0, 10.0, 9.0, 8.0, 7.0, 6.0, 5.0, 4.0, 3.0, 2.0, 1.0, -2.2555999755859375, -3.21589994430542, -3.596100091934204, -3.606300115585327, -3.742000102996826, -3.764699935913086, -3.889400005340576, -4.116600036621094, -3.504499912261963, -4.137199878692627, -4.146399974822998, -4.15880012512207, -4.270400047302246, -4.282199859619141, -4.335000038146973, -4.337399959564209, -4.392399787902832, -4.395400047302246, -4.442999839782715, -4.4542999267578125, -4.502999782562256, -4.526500225067139, -4.599800109863281, -4.6508002281188965, -4.663599967956543, -4.682600021362305, -4.77209997177124, -4.775000095367432, -4.820199966430664, -4.883999824523926, -4.750500202178955, -2.658099889755249, -3.085400104522705, -3.2665998935699463, -3.3710999488830566, -3.382999897003174, -3.577399969100952, -3.5866000652313232, -3.7464001178741455, -3.7822999954223633, -3.9560999870300293, -4.109899997711182, -4.582300186157227, -4.765200138092041, -4.840199947357178, -4.855800151824951, -4.927999973297119, -4.934100151062012, -4.947999954223633, -4.96120023727417, -4.973700046539307, -5.006199836730957, -5.013500213623047, -5.049900054931641, -5.0690999031066895, -5.135200023651123, -5.151800155639648, -5.173900127410889, -5.178899765014648, -5.229800224304199, -5.231200218200684, -3.9539999961853027, -3.1630001068115234, -2.9189999103546143, -4.398600101470947, -4.985300064086914, -4.093200206756592, -4.484600067138672, -4.447400093078613, -4.9141998291015625, -2.9173998832702637, -3.2839999198913574, -3.34089994430542, -3.397700071334839, -3.745800018310547, -4.053599834442139, -4.130199909210205, -4.198200225830078, -4.206900119781494, -4.211699962615967, -4.289599895477295, -4.359099864959717, -4.397299766540527, -4.418099880218506, -4.424600124359131, -4.448400020599365, -4.44980001449585, -4.473100185394287, -4.507999897003174, -4.583399772644043, -4.590199947357178, -4.59499979019165, -4.644000053405762, -4.655099868774414, -4.67110013961792, -4.713799953460693, -4.726600170135498, -4.741499900817871, -4.751100063323975, -4.8119001388549805, -3.594099998474121, -4.486000061035156, -2.7708001136779785, -3.0030999183654785, -3.0074000358581543, -3.4298999309539795, -3.558799982070923, -3.6986000537872314, -3.7841999530792236, -3.7880001068115234, -3.8034000396728516, -3.877500057220459, -3.911400079727173, -3.9918999671936035, -4.123000144958496, -4.143400192260742, -4.170599937438965, -4.249199867248535, -4.3130998611450195, -4.431399822235107, -4.487599849700928, -4.584099769592285, -4.775199890136719, -4.829400062561035, -4.915999889373779, -4.969799995422363, -4.656899929046631, -5.128600120544434, -5.155900001525879, -5.17110013961792, -5.196499824523926, -5.209000110626221, -3.687999963760376, -3.214400053024292, -3.9512999057769775, -4.547500133514404, -4.809000015258789, -4.942800045013428, -3.41729998588562, -3.3840999603271484, -3.5910000801086426, -3.6407999992370605, -3.650399923324585, -3.795300006866455, -3.819200038909912, -3.874000072479248, -3.941999912261963, -3.948699951171875, -3.99399995803833, -4.026199817657471, -4.125100135803223, -4.170199871063232, -4.20989990234375, -4.241600036621094, -4.346499919891357, -4.349800109863281, -4.377500057220459, -4.389500141143799, -4.4095001220703125, -4.4197001457214355, -4.518400192260742, -4.526400089263916, -4.534299850463867, -4.5528998374938965, -4.576499938964844, -4.684000015258789, -4.726600170135498, -4.804100036621094, -3.579900026321411, -3.9941000938415527, -4.606900215148926, -3.238100051879883, -3.359499931335449, -3.5357000827789307, -3.6147000789642334, -3.664400100708008, -3.736299991607666, -3.805799961090088, -3.868799924850464, -3.8919999599456787, -3.904099941253662, -3.95169997215271, -3.964900016784668, -4.0524001121521, -4.063700199127197, -4.143499851226807, -4.214900016784668, -4.258299827575684, -4.355299949645996, -4.386300086975098, -4.412799835205078, -4.4770002365112305, -4.520899772644043, -4.5278000831604, -4.556300163269043, -4.582399845123291, -4.626299858093262, -4.667099952697754, -4.76609992980957, -4.769000053405762, -4.056399822235107, -3.337599992752075, -4.449100017547607, -4.625999927520752, -3.227400064468384, -3.4063000679016113, -3.454200029373169, -3.596299886703491, -3.9149999618530273, -3.9168999195098877, -3.927299976348877, -3.9310998916625977, -3.9528000354766846, -3.961899995803833, -4.009799957275391, -4.0233001708984375, -4.098199844360352, -4.10230016708374, -4.112100124359131, -4.114799976348877, -4.156799793243408, -4.236199855804443, -4.278600215911865, -4.473499774932861, -4.515699863433838, -4.54610013961792, -4.605199813842773, -4.6209001541137695, -4.644000053405762, -4.679299831390381, -4.685299873352051, -4.689199924468994, -4.747499942779541, -4.756199836730957, -4.061200141906738, -2.869499921798706, -3.0810999870300293, -3.327899932861328, -3.77810001373291, -3.8436999320983887, -3.8847999572753906, -3.958699941635132, -4.008800029754639, -4.050300121307373, -4.087900161743164, -4.098700046539307, -4.115200042724609, -4.259200096130371, -4.315299987792969, -4.336400032043457, -4.342700004577637, -4.38730001449585, -4.415999889373779, -4.455699920654297, -4.457699775695801, -4.471700191497803, -4.515100002288818, -4.612599849700928, -4.623799800872803, -4.631700038909912, -4.645999908447266, -4.673699855804443, -4.68720006942749, -4.847300052642822, -4.869100093841553, -4.77839994430542, -3.078700065612793, -3.2767999172210693, -3.356100082397461, -3.8857998847961426, -3.873500108718872, -3.893399953842163, -3.996500015258789, -4.02839994430542, -4.153299808502197, -4.225599765777588, -4.258200168609619, -4.260200023651123, -4.270899772644043, -4.381400108337402, -4.495500087738037, -4.509500026702881, -4.530799865722656, -4.584499835968018, -4.589300155639648, -4.64300012588501, -4.660399913787842, -4.737400054931641, -4.799499988555908, -4.800300121307373, -4.848899841308594, -4.856800079345703, -4.865099906921387, -4.868000030517578, -4.888000011444092, -4.8907999992370605, -4.122600078582764, -3.9005000591278076, -3.889699935913086, -4.382599830627441, -4.413300037384033, -4.123700141906738, -4.727799892425537, -2.9969000816345215, -3.3078999519348145, -3.331199884414673, -3.436300039291382, -3.442199945449829, -3.7639999389648438, -3.8631999492645264, -3.9863998889923096, -4.053199768066406, -4.074900150299072, -4.143499851226807, -4.150100231170654, -4.150100231170654, -4.241700172424316, -4.253399848937988, -4.290599822998047, -4.325500011444092, -4.384699821472168, -4.410099983215332, -4.471199989318848, -4.527400016784668, -4.61460018157959, -4.627600193023682, -4.636300086975098, -4.700200080871582, -4.705599784851074, -4.762599945068359, -4.8246002197265625, -4.854499816894531, -4.857900142669678, -4.538599967956543, -4.607900142669678, -3.022599935531616, -3.463099956512451, -3.472399950027466, -3.5297999382019043, -3.77810001373291, -3.85479998588562, -3.8570001125335693, -3.8845999240875244, -3.9907000064849854, -4.02869987487793, -4.122499942779541, -4.130899906158447, -4.235000133514404, -4.313600063323975, -4.35890007019043, -4.372200012207031, -4.375400066375732, -4.435800075531006, -4.498300075531006, -4.536499977111816, -4.537300109863281, -4.569200038909912, -4.583600044250488, -4.609600067138672, -4.638199806213379, -4.641900062561035, -4.652500152587891, -4.684599876403809, -4.740699768066406, -4.769499778747559, -4.508600234985352, -4.691400051116943, -2.9173998832702637, -3.026700019836426, -3.1203999519348145, -3.386199951171875, -3.5487000942230225, -3.5889999866485596, -3.6161999702453613, -3.716200113296509, -3.755199909210205, -4.3190999031066895, -4.338399887084961, -4.340199947357178, -4.352200031280518, -4.390699863433838, -4.522900104522705, -4.5680999755859375, -4.5767998695373535, -4.59660005569458, -4.621200084686279, -4.692500114440918, -4.704500198364258, -4.787899971008301, -4.820700168609619, -4.829899787902832, -4.865799903869629, -4.917500019073486, -4.938000202178955, -4.942500114440918, -4.971099853515625, -4.98360013961792, -4.444300174713135, -3.6041998863220215, -4.895599842071533, -1.955299973487854, -3.613600015640259, -3.682800054550171, -3.7820000648498535, -3.8345000743865967, -3.8666000366210938, -3.9681999683380127, -3.9804999828338623, -3.990600109100342, -3.9944000244140625, -4.243899822235107, -4.254899978637695, -4.288300037384033, -4.350100040435791, -4.359399795532227, -4.458399772644043, -4.488399982452393, -4.501999855041504, -4.526700019836426, -4.6041998863220215, -4.6433000564575195, -4.690700054168701, -4.719799995422363, -4.778299808502197, -4.781799793243408, -4.7881999015808105, -4.791900157928467, -4.796899795532227, -4.8420000076293945, -4.8531999588012695, -4.503200054168701, -4.397600173950195, -4.597400188446045, -4.728799819946289, -2.9600000381469727, -3.0320000648498535, -3.168100118637085, -3.295799970626831, -3.598900079727173, -3.641200065612793, -3.787100076675415, -3.8424999713897705, -4.0395002365112305, -4.040900230407715, -4.110799789428711, -4.144599914550781, -4.20989990234375, -4.244800090789795, -4.247099876403809, -4.26800012588501, -4.37060022354126, -4.420599937438965, -4.507699966430664, -4.5467000007629395, -4.588399887084961, -4.613500118255615, -4.636899948120117, -4.700200080871582, -4.84660005569458, -4.925300121307373, -4.9268999099731445, -4.940000057220459, -5.038000106811523, -5.0441999435424805, -4.218900203704834, -4.082600116729736, -4.395400047302246, -4.829800128936768, -2.850600004196167, -3.2583999633789062, -3.373199939727783, -3.3994998931884766, -3.521399974822998, -3.670099973678589, -3.7778000831604004, -3.851799964904785, -3.9261999130249023, -4.005799770355225, -4.073999881744385, -4.079400062561035, -4.134900093078613, -4.203100204467773, -4.254899978637695, -4.3480000495910645, -4.35890007019043, -4.371399879455566, -4.506700038909912, -4.524199962615967, -4.557400226593018, -4.596099853515625, -4.619100093841553, -4.6570000648498535, -4.683499813079834, -4.734600067138672, -4.76039981842041, -4.769800186157227, -4.850399971008301, -4.872099876403809, -3.401099920272827, -4.392600059509277, -3.0448999404907227, -3.2646000385284424, -3.5848000049591064, -3.7469000816345215, -3.7967000007629395, -3.842400074005127, -3.8940000534057617, -3.87280011177063, -3.9235000610351562, -3.95989990234375, -3.9858999252319336, -4.10290002822876, -4.132299900054932, -4.138800144195557, -4.143099784851074, -4.366399765014648, -4.395999908447266, -4.493599891662598, -4.615600109100342, -4.634300231933594, -4.6350998878479, -4.656599998474121, -4.659299850463867, -4.714099884033203, -4.729400157928467, -4.820199966430664, -4.865499973297119, -4.872300148010254, -4.924699783325195, -4.947299957275391, -4.91540002822876, -2.3942999839782715, -4.163400173187256, -4.007999897003174, -4.206099987030029, -4.49459981918335, -4.575399875640869, -2.5434000492095947, -3.2360999584198, -3.4523000717163086, -3.649899959564209, -3.815200090408325, -3.8773000240325928, -3.8782999515533447, -3.9258999824523926, -3.946199893951416, -3.9688000679016113, -4.076399803161621, -4.081999778747559, -4.2846999168396, -4.303699970245361, -4.304299831390381, -4.318699836730957, -4.3343000411987305, -4.381700038909912, -4.410200119018555, -4.428899765014648, -4.435500144958496, -4.468900203704834, -4.492800235748291, -4.497399806976318, -4.540299892425537, -4.543399810791016, -4.599999904632568, -4.688700199127197, -4.694300174713135, -4.709199905395508, -4.513299942016602, -4.315400123596191, -2.9079999923706055, -2.960200071334839, -3.034600019454956, -3.4052000045776367, -3.4583001136779785, -3.5745999813079834, -3.6285998821258545, -3.700200080871582, -3.8526999950408936, -3.8994998931884766, -3.941800117492676, -4.03439998626709, -4.2434000968933105, -4.2581000328063965, -4.299799919128418, -4.381400108337402, -4.434199810028076, -4.5457000732421875, -4.552599906921387, -4.567200183868408, -4.607900142669678, -4.636099815368652, -4.673600196838379, -4.803599834442139, -4.810299873352051, -4.877699851989746, -4.969699859619141, -4.986700057983398, -4.990099906921387, -4.995699882507324, -3.458699941635132, -3.0334999561309814, -3.18149995803833, -3.4809999465942383, -3.5975000858306885, -3.80049991607666, -3.819999933242798, -3.8255999088287354, -4.03000020980835, -4.069900035858154, -4.115099906921387, -4.177800178527832, -4.209499835968018, -4.210700035095215, -4.239699840545654, -4.30679988861084, -4.321800231933594, -4.402500152587891, -4.4328999519348145, -4.461100101470947, -4.151199817657471, -4.617199897766113, -4.620999813079834, -4.656499862670898, -4.692599773406982, -4.764800071716309, -4.797900199890137, -4.840199947357178, -4.842700004577637, -4.854599952697754, -4.8557000160217285, -3.879699945449829, -4.32919979095459, -4.472799777984619, -4.746399879455566, -2.2897000312805176, -2.9697000980377197, -3.314300060272217, -3.645699977874756, -3.7741000652313232, -3.7971999645233154, -3.9384000301361084, -3.984100103378296, -4.057799816131592, -4.095399856567383, -4.1479997634887695, -4.232999801635742, -4.336999893188477, -4.36269998550415, -4.451200008392334, -4.513800144195557, -4.575300216674805, -4.593900203704834, -4.681700229644775, -4.693299770355225, -4.706299781799316, -4.722700119018555, -4.745500087738037, -4.747900009155273, -4.7530999183654785, -4.793600082397461, -4.796599864959717, -4.847899913787842, -4.904900074005127, -4.908100128173828, -3.5938000679016113, -4.89300012588501]}, \"token.table\": {\"Topic\": [14, 5, 16, 2, 7, 13, 8, 5, 11, 15, 10, 20, 4, 1, 18, 10, 9, 20, 3, 2, 2, 16, 3, 3, 4, 17, 4, 13, 18, 4, 1, 1, 20, 8, 15, 8, 8, 4, 17, 2, 6, 2, 4, 9, 2, 16, 19, 8, 16, 11, 11, 8, 12, 9, 12, 16, 1, 4, 12, 13, 10, 9, 12, 12, 4, 12, 5, 13, 4, 10, 20, 19, 7, 4, 14, 6, 8, 9, 10, 19, 18, 10, 14, 6, 14, 3, 5, 12, 10, 15, 12, 2, 4, 4, 11, 19, 15, 1, 5, 7, 18, 2, 4, 10, 9, 13, 15, 2, 17, 6, 3, 11, 16, 13, 17, 9, 20, 8, 1, 2, 3, 4, 6, 8, 9, 10, 16, 17, 18, 19, 7, 12, 15, 16, 20, 10, 10, 19, 3, 16, 5, 8, 6, 20, 17, 6, 18, 7, 7, 10, 14, 6, 18, 2, 19, 17, 18, 8, 9, 6, 20, 20, 19, 15, 18, 16, 4, 5, 6, 10, 5, 9, 19, 19, 9, 13, 4, 18, 2, 4, 16, 19, 3, 15, 1, 13, 10, 6, 9, 13, 16, 19, 12, 6, 17, 8, 14, 18, 10, 9, 1, 20, 16, 16, 16, 16, 10, 1, 5, 2, 16, 15, 14, 19, 3, 14, 5, 20, 14, 19, 7, 7, 11, 1, 11, 10, 11, 18, 2, 1, 15, 10, 15, 11, 11, 5, 19, 6, 16, 5, 9, 12, 8, 3, 3, 8, 8, 10, 3, 15, 13, 19, 1, 8, 18, 10, 19, 12, 3, 13, 7, 12, 5, 2, 11, 2, 7, 11, 5, 6, 13, 11, 4, 2, 15, 7, 9, 10, 18, 17, 9, 19, 14, 17, 7, 20, 3, 5, 6, 9, 14, 14, 3, 11, 9, 12, 5, 2, 16, 14, 18, 10, 20, 14, 20, 18, 11, 20, 5, 11, 11, 16, 7, 1, 3, 6, 7, 10, 14, 15, 16, 18, 19, 20, 3, 1, 20, 6, 9, 10, 17, 15, 5, 13, 12, 1, 2, 2, 16, 9, 12, 18, 12, 16, 1, 11, 4, 15, 2, 9, 17, 4, 5, 17, 2, 18, 17, 9, 13, 5, 2, 4, 12, 13, 19, 16, 16, 13, 14, 20, 14, 17, 14, 16, 6, 20, 1, 19, 11, 17, 13, 7, 7, 1, 15, 16, 1, 19, 19, 3, 20, 11, 9, 3, 18, 18, 17, 11, 8, 8, 2, 3, 1, 14, 15, 13, 3, 3, 6, 18, 8, 6, 4, 5, 14, 13, 7, 9, 5, 12, 8, 12, 4, 6, 7, 2, 4, 19, 10, 3, 6, 12, 5, 1, 18, 11, 14, 7, 20, 13, 9, 6, 11, 4, 10, 14, 20, 6, 3, 17, 6, 12, 8, 15, 11, 6, 15, 15, 8, 2, 9, 7, 19, 12, 19, 2, 3, 5, 6, 7, 9, 10, 14, 17, 18, 20, 19, 12, 17, 20, 7, 11, 1, 4, 16, 15, 17, 14, 18, 1, 8, 7, 8, 13, 12, 9, 3, 10, 17, 1, 9, 16, 19, 4, 18, 5, 13, 11, 3, 9, 19, 18, 20, 6, 6, 19, 14, 5, 6, 16, 2, 4, 3, 6, 1, 2, 19, 13, 10, 15, 13, 3, 15, 10, 9, 8, 16, 17, 14, 9, 5, 14, 10, 12, 1, 3, 4, 5, 6, 7, 8, 9, 10, 12, 13, 14, 15, 16, 17, 18, 19, 20, 20, 5, 6, 14, 7, 7, 6, 14, 5, 10, 5, 6, 19, 12, 2, 12, 16, 17, 2, 17, 18, 15, 9, 17, 8, 9, 12, 6, 8, 7, 13, 4, 5, 6, 9, 14, 15, 18, 19, 2, 19, 5, 12, 3, 20, 7, 10, 11, 16, 14, 9, 2, 9, 2, 16, 17, 5, 20, 3, 14, 18, 8, 4, 5, 12, 14, 4, 18, 14, 9, 19, 13, 7, 13, 15, 13, 16, 11, 7, 3, 20, 2, 4, 16, 4, 2, 13, 13, 7, 8, 17, 18, 5, 13, 5, 2, 8, 19, 17, 11, 19, 15, 20, 5, 2, 12, 15, 18, 14, 4, 16, 4, 18, 15, 7, 1, 13, 7, 20, 10, 10, 4, 4, 5, 18, 16, 1, 3, 1, 13, 10, 1, 6, 17, 17, 5, 20, 17, 11, 16, 3, 1, 15, 18, 2, 16, 14, 12, 2, 6, 11, 6, 9, 13, 16, 10, 16, 1, 6, 8, 20, 10, 13, 3, 6, 19, 15, 19, 17, 6, 15, 3, 6, 17, 1, 14, 5, 1, 14, 15, 8, 20, 10, 4, 7, 4, 8, 11, 2, 18, 2, 8, 5, 6, 7, 4, 7, 1, 5, 17, 9, 14, 15, 2, 13, 5, 14], \"Freq\": [0.9997875690460205, 0.9997375011444092, 0.9998638033866882, 0.9999015927314758, 0.3513360023498535, 0.6485693454742432, 0.999889075756073, 0.0005092685460112989, 0.9991848468780518, 0.9993707537651062, 0.9996781945228577, 0.9996389746665955, 0.9998968243598938, 0.9994077086448669, 0.9994537234306335, 0.9996541738510132, 0.999798595905304, 0.9998358488082886, 0.9996338486671448, 0.9994432330131531, 0.410767525434494, 0.5889524221420288, 0.9993752241134644, 0.999721348285675, 0.999871015548706, 0.9995750784873962, 0.9997560381889343, 0.7115412354469299, 0.2881667912006378, 0.99992436170578, 0.9997112154960632, 0.9999781847000122, 0.9999641180038452, 0.9996292591094971, 0.999774694442749, 0.99964839220047, 0.9997134208679199, 0.9998405575752258, 0.9997234344482422, 0.9994007349014282, 0.9996785521507263, 0.999312698841095, 0.9998865723609924, 0.9995841979980469, 0.895756721496582, 0.10381950438022614, 0.9996674060821533, 0.9997841119766235, 0.9995686411857605, 0.9998545050621033, 0.9994168877601624, 0.9996442198753357, 0.9992995858192444, 0.9997197389602661, 0.9994109272956848, 0.9995654821395874, 0.9996538162231445, 0.9996898770332336, 0.9996263384819031, 0.999525785446167, 0.9994522333145142, 0.9994311332702637, 0.9995899200439453, 0.9998308420181274, 0.24443939328193665, 0.7551027536392212, 0.9998629093170166, 0.9997367262840271, 0.9994276165962219, 0.9998830556869507, 0.99971604347229, 0.9997866153717041, 0.999902069568634, 0.9997040629386902, 0.9997804760932922, 0.5639441013336182, 0.09343348443508148, 0.09501709789037704, 0.11208498477935791, 0.13531139492988586, 0.9996583461761475, 0.9997299909591675, 0.9997006058692932, 0.9999075531959534, 0.9997371435165405, 0.9999279975891113, 0.999800980091095, 0.9993036985397339, 0.9994701743125916, 0.9996194243431091, 0.9994511008262634, 0.9994816184043884, 0.9998392462730408, 0.9997907876968384, 0.9998016953468323, 0.9996850490570068, 0.999642550945282, 0.999634325504303, 0.9998541474342346, 0.9997418522834778, 0.9999120831489563, 0.7395657300949097, 0.26038166880607605, 0.9993826746940613, 0.7767571210861206, 0.2231110781431198, 0.9998635649681091, 0.9997995495796204, 0.9999327063560486, 0.9996951222419739, 0.9995088577270508, 0.9998763203620911, 0.9997360706329346, 0.9995632767677307, 0.999886691570282, 0.9998383522033691, 0.9995004534721375, 0.999386191368103, 0.001572782057337463, 0.007863910868763924, 0.001572782057337463, 0.008650301955640316, 0.002359173260629177, 0.004718346521258354, 0.0003931955143343657, 0.002359173260629177, 0.0007863910286687315, 0.966081440448761, 0.0011795866303145885, 0.003145564114674926, 0.9997387528419495, 0.9995436668395996, 0.9998379945755005, 0.999849259853363, 0.9997478127479553, 0.9997113943099976, 0.9998752474784851, 0.9995362162590027, 0.9997587203979492, 0.9998243451118469, 0.9999046325683594, 0.9997256994247437, 0.999908447265625, 0.9994613528251648, 0.9995681047439575, 0.9996782541275024, 0.9996976256370544, 0.9994642734527588, 0.998530387878418, 0.0007549372967332602, 0.0005032914923503995, 0.9999260902404785, 0.9999313354492188, 0.9999637603759766, 0.9999125003814697, 0.9996146559715271, 0.9996106624603271, 0.99961918592453, 0.9995829463005066, 0.9998104572296143, 0.9991551637649536, 0.9997137188911438, 0.9995519518852234, 0.9995850324630737, 0.9995436072349548, 0.9995855689048767, 0.9990580677986145, 0.20327067375183105, 0.7966294288635254, 0.9996227622032166, 0.9995822906494141, 0.7064864635467529, 0.29335159063339233, 0.9998749494552612, 0.9994514584541321, 0.9993759989738464, 0.9998364448547363, 0.9998651146888733, 0.24183328449726105, 0.14570079743862152, 0.2005658894777298, 0.4118834435939789, 0.999805212020874, 0.9997884631156921, 0.9993825554847717, 0.999720573425293, 0.9997423887252808, 0.9998173713684082, 0.9998878836631775, 0.9996044635772705, 0.9994767308235168, 0.9998791813850403, 0.9996445178985596, 0.9997141361236572, 0.999732494354248, 0.9993652701377869, 0.999686598777771, 0.999750554561615, 0.9996465444564819, 0.9998754858970642, 0.9996792674064636, 0.9996406435966492, 0.9997305274009705, 0.9998369216918945, 0.9998928308486938, 0.9997312426567078, 0.9996337890625, 0.9995469450950623, 0.9995400309562683, 0.9999037981033325, 0.9997679591178894, 0.9997363686561584, 0.9993560314178467, 0.9998242259025574, 0.9996262788772583, 0.9996170401573181, 0.3616884648799896, 0.6378797292709351, 0.9999565482139587, 0.9997743368148804, 0.999719500541687, 0.9996724128723145, 0.9995104074478149, 0.9997118711471558, 0.9995623826980591, 0.9995234608650208, 0.9994791746139526, 0.9997878670692444, 0.9999017715454102, 0.9998317360877991, 0.9998854398727417, 0.9993925094604492, 0.9994837045669556, 0.9998679161071777, 0.999487042427063, 0.9998026490211487, 0.9995874762535095, 0.29397526383399963, 0.705982506275177, 0.22085650265216827, 0.7790464758872986, 0.9995572566986084, 0.9996305108070374, 0.9998310208320618, 0.9997316002845764, 0.9997579455375671, 0.16351903975009918, 0.8361769318580627, 0.9999082088470459, 0.9994403719902039, 0.9997299313545227, 0.9997654557228088, 0.9995501041412354, 0.9997043609619141, 0.9994180202484131, 0.9996445775032043, 0.9998716711997986, 0.9993264675140381, 0.999538004398346, 0.9996663928031921, 0.99947589635849, 0.9999242424964905, 0.9995263814926147, 0.9991946816444397, 0.9998235702514648, 0.999627947807312, 0.9997261762619019, 0.9992737174034119, 0.9998708367347717, 0.9997405409812927, 0.9997567534446716, 0.9992067217826843, 0.9997126460075378, 0.9993231892585754, 0.9997230768203735, 0.9992926120758057, 0.9997869729995728, 0.99985671043396, 0.9994732141494751, 0.9999199509620667, 0.9995297193527222, 0.9996266961097717, 0.9997691512107849, 0.9995673298835754, 0.999695360660553, 0.999819815158844, 0.07712269574403763, 0.5021321773529053, 0.18863342702388763, 0.14022308588027954, 0.09197966754436493, 0.9997434020042419, 0.9995411038398743, 0.9998272657394409, 0.9994878768920898, 0.9997767806053162, 0.9998947381973267, 0.9998269081115723, 0.9999086856842041, 0.9998250603675842, 0.9992475509643555, 0.9998416304588318, 0.9996389746665955, 0.9998283982276917, 0.9998434782028198, 0.9999395608901978, 0.9998013377189636, 0.9997311234474182, 0.001271739020012319, 0.9983150959014893, 0.9995615482330322, 0.999848484992981, 0.9999299049377441, 0.05630487576127052, 0.00986130628734827, 0.1548384130001068, 0.09757921099662781, 0.1193695217370987, 0.05924736335873604, 0.07419837266206741, 0.015507698990404606, 0.08938796818256378, 0.2643466293811798, 0.0593268908560276, 0.9995062351226807, 0.9998089671134949, 0.9994649291038513, 0.0009917659917846322, 0.9972206950187683, 0.0014876490458846092, 0.9998558163642883, 0.9992408752441406, 0.9998313188552856, 0.999792754650116, 0.9994332790374756, 0.9998414516448975, 0.9997329711914062, 0.9993468523025513, 0.9996450543403625, 0.9997678399085999, 0.9993868470191956, 0.9995940327644348, 0.9999503493309021, 0.9997559785842896, 0.9995852112770081, 0.9996749758720398, 0.9997347593307495, 0.9996637105941772, 0.9999383687973022, 0.9996651411056519, 0.9995483160018921, 0.9996724128723145, 0.9998186826705933, 0.9997682571411133, 0.9995566010475159, 0.999693751335144, 0.9997411966323853, 0.9995219111442566, 0.9996639490127563, 0.9998378157615662, 0.011320379562675953, 0.2092740386724472, 0.47300830483436584, 0.08620315790176392, 0.22021198272705078, 0.9994969964027405, 0.9996137022972107, 0.9997994303703308, 0.23957444727420807, 0.760360598564148, 0.9994090795516968, 0.9998422265052795, 0.21785153448581696, 0.7819787859916687, 0.9997720718383789, 0.9996395111083984, 0.9997519850730896, 0.9997451305389404, 0.9996150732040405, 0.9998470544815063, 0.9995517730712891, 0.9998530745506287, 0.9997863173484802, 0.9992470741271973, 0.9995482563972473, 0.9997146129608154, 0.9998241662979126, 0.9997490644454956, 0.9997822642326355, 0.9996780157089233, 0.9997007250785828, 0.9998664259910583, 0.9997422099113464, 0.9996093511581421, 0.9997694492340088, 0.999862790107727, 0.9997543692588806, 0.9993759989738464, 0.9991660118103027, 0.9996581077575684, 0.9998520016670227, 0.9996401071548462, 0.9998283982276917, 0.300369530916214, 0.6995126008987427, 0.9996656775474548, 0.9996160268783569, 0.6778339743614197, 0.3218143582344055, 0.9994847178459167, 0.9997376203536987, 0.9998709559440613, 0.9999498724937439, 0.999793529510498, 0.9997061491012573, 0.9994418025016785, 0.9996936917304993, 0.9997509717941284, 0.9998568892478943, 0.9998894929885864, 0.9995342493057251, 0.9998275637626648, 0.9996765851974487, 0.9997161030769348, 0.9995244145393372, 0.8398809432983398, 0.160056933760643, 0.9996324181556702, 0.9996918439865112, 0.9997884035110474, 0.9998759627342224, 0.9999141693115234, 0.9998295307159424, 0.999672532081604, 0.9998416900634766, 0.9997351765632629, 0.999896764755249, 0.9996638298034668, 0.9996157884597778, 0.9996563196182251, 0.9995902180671692, 0.9996691346168518, 0.9996621608734131, 0.9997976422309875, 0.9996034502983093, 0.9994967579841614, 0.999900221824646, 0.999782919883728, 0.9996058344841003, 0.9994437098503113, 0.9996654391288757, 0.9995971918106079, 0.9996992945671082, 0.9997967481613159, 0.999714732170105, 0.9998632669448853, 0.9997403621673584, 0.9997616410255432, 0.9994747638702393, 0.9992687702178955, 0.9995441436767578, 0.9996675252914429, 0.9999315142631531, 0.9998998641967773, 0.9997870922088623, 0.9993318915367126, 0.0003076818538829684, 0.14257977902889252, 0.7152987718582153, 0.0014153365045785904, 0.13513387739658356, 0.0028922094497829676, 0.000492291001137346, 0.0001230727502843365, 0.0003692182363010943, 0.0012922638561576605, 0.9996148943901062, 0.9997492432594299, 0.999869704246521, 0.9996584057807922, 0.9995479583740234, 0.9997889995574951, 0.9995297789573669, 0.31595855951309204, 0.6840136051177979, 0.9996691346168518, 0.9997778534889221, 0.9996138215065002, 0.9997884631156921, 0.9997081160545349, 0.9999107718467712, 0.9998554587364197, 0.999689519405365, 0.9997329115867615, 0.999287486076355, 0.9994772672653198, 0.7259359955787659, 0.21354003250598907, 0.060421694070100784, 0.9996014833450317, 0.9996292591094971, 0.342012494802475, 0.6576008796691895, 0.9998584985733032, 0.9998853802680969, 0.2528453767299652, 0.7464958429336548, 0.9996400475502014, 0.999731719493866, 0.9994761347770691, 0.9995782971382141, 0.9997985363006592, 0.9994609355926514, 0.9998642802238464, 0.999879002571106, 0.999415397644043, 0.9998974204063416, 0.00017646576452534646, 0.9996784925460815, 0.9998981952667236, 0.00040750327752903104, 0.9991980195045471, 0.9997522234916687, 0.9998703002929688, 0.9994803071022034, 0.9993312954902649, 0.9992824792861938, 0.9997488260269165, 0.9995648860931396, 0.9996173977851868, 0.9996806979179382, 0.9994583129882812, 0.999879002571106, 0.9993584752082825, 0.9997487664222717, 0.9995988011360168, 0.9997559189796448, 0.9995729923248291, 0.999767541885376, 0.9996444582939148, 0.9998987317085266, 0.9995701313018799, 0.9996393918991089, 0.9994381070137024, 0.019410397857427597, 0.052097171545028687, 0.015713179484009743, 0.0936068519949913, 0.07612909376621246, 0.05318953096866608, 0.013024292886257172, 0.10032907128334045, 0.06260063499212265, 0.019410397857427597, 0.08923741430044174, 0.17360122501850128, 0.0014284708304330707, 0.07033118605613708, 0.022099284455180168, 0.0236958097666502, 0.10385823249816895, 0.010251378640532494, 0.9997703433036804, 0.9998075366020203, 0.999858558177948, 0.9995882511138916, 0.9997674822807312, 0.9997023344039917, 0.2631795108318329, 0.7365155816078186, 0.9998173117637634, 0.999824583530426, 0.9997195601463318, 0.9997327923774719, 0.9998836517333984, 0.9994005560874939, 0.9990553855895996, 0.9994022250175476, 0.999844491481781, 0.9998704195022583, 0.9980350732803345, 0.0003983376664109528, 0.0011950130574405193, 0.9995244145393372, 0.9998922944068909, 0.9995098114013672, 0.9996683597564697, 0.9992905259132385, 0.999761164188385, 0.9997079372406006, 0.9997877478599548, 0.9998039603233337, 0.999963104724884, 0.10659577697515488, 0.1805044561624527, 0.12707854807376862, 0.342915803194046, 0.11982423812150955, 0.11803199350833893, 8.534489461453632e-05, 0.004950004164129496, 0.9992703199386597, 0.9995118379592896, 0.9995337128639221, 0.9997681975364685, 0.9997836947441101, 0.9992653131484985, 0.9997085928916931, 0.9996078610420227, 0.9993679523468018, 0.9998623728752136, 0.9997915029525757, 0.9998452067375183, 0.9995432496070862, 0.9995219707489014, 0.4452948272228241, 0.5545408725738525, 0.9997755885124207, 0.9998162984848022, 0.9993924498558044, 0.9995357394218445, 0.9998937249183655, 0.9997424483299255, 0.9994180202484131, 0.9999253153800964, 0.2810945510864258, 0.7185875773429871, 0.9997305870056152, 0.9992280602455139, 0.9998303055763245, 0.999393105506897, 0.999694287776947, 0.9996155500411987, 0.9995388388633728, 0.9993249177932739, 0.9997079968452454, 0.9999192953109741, 0.9996509552001953, 0.9997590184211731, 0.9997138977050781, 0.9996492862701416, 0.9996950030326843, 0.9994526505470276, 0.773737370967865, 0.22595444321632385, 0.9995760917663574, 0.9992357492446899, 0.2611037492752075, 0.7385825514793396, 0.9998698234558105, 0.9996812343597412, 0.9999324679374695, 0.9998787045478821, 0.9994019865989685, 0.9997095465660095, 0.9997439980506897, 0.9997242093086243, 0.9991164207458496, 0.999782383441925, 0.9996598958969116, 0.9998680949211121, 0.9995332956314087, 0.9996303915977478, 0.9993939995765686, 0.999841034412384, 0.9997174739837646, 0.9995415210723877, 0.9996204376220703, 0.9996256828308105, 0.9997896552085876, 0.9993152618408203, 0.999844491481781, 0.9996793270111084, 0.9999310970306396, 0.9997363686561584, 0.9997031688690186, 0.9997344613075256, 0.9998894929885864, 0.9999145269393921, 0.9996848106384277, 0.9998776912689209, 0.9999144673347473, 0.9996344447135925, 0.9998071193695068, 0.9995865225791931, 0.9999099373817444, 0.9996563196182251, 0.9996175765991211, 0.9998611211776733, 0.9997262358665466, 0.9994961619377136, 0.999631941318512, 0.9993711709976196, 0.9997982382774353, 0.00013621228572446853, 0.9995655417442322, 0.9997555613517761, 0.9996020793914795, 0.999536395072937, 0.999814510345459, 0.9998422861099243, 0.9995469450950623, 0.9998853802680969, 0.9994114637374878, 0.9995607733726501, 0.9994927048683167, 0.9998363852500916, 0.9997538924217224, 0.9997503161430359, 0.9998829364776611, 0.99933260679245, 0.999701976776123, 0.9996933937072754, 0.2665926516056061, 0.7332019805908203, 0.9995285272598267, 0.9997062683105469, 0.6983639597892761, 0.301545649766922, 0.999809741973877, 0.99979168176651, 0.999727189540863, 0.9997603297233582, 0.9998029470443726, 0.9995633959770203, 0.999595582485199, 0.9998692870140076, 0.9995517134666443, 0.6946331858634949, 0.30497321486473083, 0.9996808171272278, 0.9998833537101746, 0.9997126460075378, 0.9993520975112915, 0.9998759627342224, 0.9998799562454224, 0.999573290348053, 0.9997534155845642, 0.9996702671051025, 0.1963767260313034, 0.589130163192749, 0.21433965861797333, 0.9998257756233215, 0.9996913075447083, 0.9997914433479309, 0.9994117021560669, 0.9994714856147766, 0.7759941816329956, 0.22395995259284973, 0.9996753334999084, 0.37636759877204895, 0.6234802603721619, 0.9998993277549744, 0.9996704459190369, 0.7071832418441772, 0.14373022317886353, 0.14882703125476837, 0.9996358156204224, 0.99988853931427, 0.15630559623241425, 0.6218904256820679, 0.22168590128421783, 0.9993354082107544, 0.9998476505279541, 0.9998465180397034, 0.9996163845062256, 0.9998595118522644, 0.9997062683105469, 0.9994820952415466], \"Term\": [\"abbott\", \"aboriginal\", \"abuse\", \"accuse\", \"action\", \"action\", \"adelaide\", \"affect\", \"affect\", \"age\", \"airport\", \"alice\", \"allege\", \"allegedly\", \"allow\", \"amid\", \"announce\", \"anti\", \"anzac\", \"apologise\", \"appeal\", \"appeal\", \"april\", \"army\", \"arrest\", \"ash\", \"assault\", \"asylum\", \"asylum\", \"attack\", \"aussie\", \"australia\", \"australian\", \"australians\", \"australias\", \"avoid\", \"award\", \"baby\", \"back\", \"bali\", \"ban\", \"bangladesh\", \"bank\", \"base\", \"bash\", \"bash\", \"battle\", \"beach\", \"bear\", \"beat\", \"bendigo\", \"best\", \"biggest\", \"billion\", \"bird\", \"bishop\", \"black\", \"blame\", \"blast\", \"block\", \"blue\", \"board\", \"boat\", \"body\", \"bomb\", \"bomb\", \"boost\", \"boss\", \"breach\", \"break\", \"bridge\", \"bring\", \"brisbane\", \"british\", \"budget\", \"build\", \"build\", \"build\", \"build\", \"build\", \"burn\", \"bushfire\", \"business\", \"call\", \"campaign\", \"canberra\", \"cancer\", \"capital\", \"card\", \"care\", \"career\", \"cars\", \"case\", \"catch\", \"cattle\", \"cause\", \"celebrate\", \"central\", \"centre\", \"challenge\", \"change\", \"charge\", \"charge\", \"check\", \"chief\", \"chief\", \"child\", \"children\", \"china\", \"chinese\", \"chris\", \"christmas\", \"church\", \"citizenship\", \"city\", \"claim\", \"clash\", \"clean\", \"clear\", \"clear\", \"clear\", \"clear\", \"clear\", \"clear\", \"clear\", \"clear\", \"clear\", \"clear\", \"clear\", \"clear\", \"climate\", \"clinton\", \"close\", \"club\", \"coach\", \"coal\", \"coast\", \"collapse\", \"come\", \"commission\", \"community\", \"company\", \"concern\", \"condition\", \"confirm\", \"consider\", \"contract\", \"control\", \"cost\", \"cost\", \"cost\", \"council\", \"country\", \"court\", \"crash\", \"create\", \"creek\", \"cricket\", \"crime\", \"crisis\", \"critical\", \"criticise\", \"crop\", \"cross\", \"crow\", \"crowd\", \"custody\", \"cut\", \"cut\", \"cyclone\", \"dairy\", \"damage\", \"damage\", \"darwin\", \"data\", \"days\", \"dead\", \"deal\", \"death\", \"death\", \"death\", \"death\", \"deaths\", \"debate\", \"december\", \"decision\", \"defend\", \"demand\", \"deny\", \"detention\", \"development\", \"die\", \"discover\", \"discuss\", \"disease\", \"dispute\", \"doctor\", \"dog\", \"domestic\", \"donald\", \"double\", \"draw\", \"drink\", \"drive\", \"driver\", \"drivers\", \"drone\", \"drop\", \"drought\", \"drug\", \"drum\", \"dump\", \"early\", \"east\", \"economic\", \"economy\", \"education\", \"education\", \"election\", \"emergency\", \"end\", \"energy\", \"england\", \"escape\", \"expect\", \"explain\", \"export\", \"extend\", \"face\", \"fail\", \"fall\", \"families\", \"fan\", \"farm\", \"farmer\", \"farmers\", \"fatal\", \"fear\", \"fear\", \"federal\", \"federal\", \"female\", \"festival\", \"fight\", \"fiji\", \"film\", \"fin\", \"fin\", \"final\", \"finals\", \"financial\", \"find\", \"fire\", \"fish\", \"flag\", \"flight\", \"flood\", \"fly\", \"follow\", \"food\", \"footage\", \"force\", \"foreign\", \"fraud\", \"free\", \"french\", \"friday\", \"fuel\", \"fund\", \"future\", \"game\", \"general\", \"girl\", \"girls\", \"give\", \"global\", \"go\", \"gold\", \"good\", \"government\", \"govt\", \"grand\", \"grandstand\", \"grant\", \"great\", \"green\", \"group\", \"group\", \"group\", \"group\", \"group\", \"grow\", \"growth\", \"guilty\", \"happen\", \"head\", \"health\", \"hear\", \"help\", \"high\", \"higher\", \"hill\", \"history\", \"hit\", \"hobart\", \"home\", \"honour\", \"hop\", \"hope\", \"hope\", \"horse\", \"hospital\", \"hour\", \"house\", \"house\", \"house\", \"house\", \"house\", \"house\", \"house\", \"house\", \"house\", \"house\", \"house\", \"hunt\", \"hunter\", \"improve\", \"increase\", \"increase\", \"increase\", \"india\", \"indian\", \"indigenous\", \"indonesia\", \"indonesian\", \"industry\", \"injure\", \"injury\", \"inquest\", \"inquiry\", \"inside\", \"international\", \"interview\", \"investigate\", \"investigation\", \"islamic\", \"island\", \"issue\", \"jail\", \"jam\", \"japan\", \"job\", \"john\", \"join\", \"judge\", \"july\", \"june\", \"justice\", \"keep\", \"kid\", \"kill\", \"kill\", \"kill\", \"kill\", \"kill\", \"killer\", \"know\", \"korea\", \"labor\", \"labor\", \"lake\", \"land\", \"launch\", \"launch\", \"laws\", \"lawyer\", \"lead\", \"leader\", \"leaders\", \"league\", \"leak\", \"leave\", \"legal\", \"level\", \"liberal\", \"liberals\", \"life\", \"light\", \"like\", \"line\", \"link\", \"live\", \"local\", \"london\", \"long\", \"lose\", \"loss\", \"love\", \"mackay\", \"major\", \"make\", \"march\", \"mark\", \"market\", \"market\", \"marriage\", \"match\", \"mayor\", \"mayor\", \"mean\", \"media\", \"meet\", \"melbourne\", \"mental\", \"michael\", \"military\", \"million\", \"mine\", \"minister\", \"miss\", \"monday\", \"money\", \"mother\", \"mount\", \"move\", \"murder\", \"murder\", \"music\", \"name\", \"nation\", \"national\", \"near\", \"need\", \"newcastle\", \"news\", \"night\", \"north\", \"northern\", \"november\", \"nuclear\", \"number\", \"nurse\", \"offer\", \"officer\", \"olympic\", \"online\", \"open\", \"opposition\", \"order\", \"origin\", \"outback\", \"pacific\", \"pakistan\", \"parent\", \"paris\", \"park\", \"parliament\", \"party\", \"pass\", \"patients\", \"paul\", \"pay\", \"people\", \"perth\", \"peter\", \"phone\", \"plan\", \"plan\", \"plan\", \"plan\", \"plan\", \"plan\", \"plan\", \"plan\", \"plan\", \"plan\", \"plane\", \"plant\", \"play\", \"player\", \"players\", \"plead\", \"point\", \"police\", \"police\", \"political\", \"politics\", \"poll\", \"port\", \"post\", \"power\", \"premier\", \"prepare\", \"president\", \"press\", \"pressure\", \"price\", \"price\", \"price\", \"prison\", \"private\", \"probe\", \"probe\", \"program\", \"project\", \"promise\", \"promise\", \"prompt\", \"property\", \"propose\", \"protect\", \"protest\", \"protesters\", \"public\", \"push\", \"put\", \"queensland\", \"question\", \"question\", \"race\", \"raid\", \"raid\", \"rail\", \"raise\", \"rally\", \"rape\", \"rare\", \"rat\", \"rate\", \"reach\", \"ready\", \"receive\", \"record\", \"reduce\", \"reform\", \"refugee\", \"refugees\", \"refuse\", \"regional\", \"reject\", \"release\", \"remain\", \"remember\", \"remove\", \"report\", \"report\", \"report\", \"report\", \"report\", \"report\", \"report\", \"report\", \"report\", \"report\", \"report\", \"report\", \"report\", \"report\", \"report\", \"report\", \"report\", \"report\", \"rescue\", \"research\", \"residents\", \"result\", \"return\", \"reveal\", \"review\", \"review\", \"right\", \"rise\", \"risk\", \"river\", \"road\", \"rock\", \"roll\", \"round\", \"royal\", \"rugby\", \"rule\", \"rule\", \"rule\", \"run\", \"rural\", \"russia\", \"russian\", \"sack\", \"safe\", \"safety\", \"sale\", \"save\", \"say\", \"school\", \"school\", \"school\", \"school\", \"school\", \"school\", \"school\", \"school\", \"science\", \"scientists\", \"scott\", \"search\", \"season\", \"seat\", \"second\", \"security\", \"see\", \"seek\", \"sell\", \"senate\", \"senator\", \"send\", \"sentence\", \"sentence\", \"september\", \"service\", \"seven\", \"sexual\", \"share\", \"shark\", \"shock\", \"shoot\", \"shop\", \"shop\", \"show\", \"siege\", \"sign\", \"slam\", \"small\", \"smith\", \"social\", \"solar\", \"soldier\", \"south\", \"space\", \"speak\", \"spend\", \"sport\", \"spot\", \"spring\", \"stab\", \"stab\", \"staff\", \"stage\", \"stand\", \"stand\", \"star\", \"start\", \"state\", \"station\", \"stay\", \"steal\", \"step\", \"stop\", \"stories\", \"storm\", \"street\", \"strike\", \"strong\", \"struggle\", \"student\", \"students\", \"study\", \"suffer\", \"suicide\", \"super\", \"support\", \"survey\", \"suspect\", \"suspend\", \"sydney\", \"syria\", \"syrian\", \"tackle\", \"take\", \"talk\", \"target\", \"tasmania\", \"tasmanian\", \"team\", \"teen\", \"teenager\", \"tell\", \"term\", \"terrorism\", \"test\", \"thousands\", \"threat\", \"threaten\", \"thursday\", \"time\", \"time\", \"title\", \"tour\", \"town\", \"townsville\", \"track\", \"trade\", \"traffic\", \"train\", \"travel\", \"treatment\", \"tree\", \"trial\", \"truck\", \"turn\", \"turnbull\", \"underway\", \"union\", \"unite\", \"urge\", \"urge\", \"valley\", \"victim\", \"victims\", \"victims\", \"victoria\", \"victorian\", \"victory\", \"video\", \"violence\", \"visit\", \"volunteer\", \"vote\", \"walk\", \"wall\", \"wall\", \"wallabies\", \"want\", \"waste\", \"watch\", \"water\", \"weather\", \"wednesday\", \"week\", \"welcome\", \"west\", \"west\", \"west\", \"western\", \"whale\", \"white\", \"wife\", \"wild\", \"win\", \"win\", \"wind\", \"woman\", \"woman\", \"women\", \"womens\", \"work\", \"work\", \"work\", \"worker\", \"workers\", \"world\", \"world\", \"world\", \"worry\", \"year\", \"years\", \"york\", \"young\", \"youth\", \"zealand\"]}, \"R\": 30, \"lambda.step\": 0.01, \"plot.opts\": {\"xlab\": \"PC1\", \"ylab\": \"PC2\"}, \"topic.order\": [1, 2, 3, 4, 5, 6, 7, 8, 9, 10, 11, 12, 13, 14, 15, 16, 17, 18, 19, 20]};\n",
       "\n",
       "function LDAvis_load_lib(url, callback){\n",
       "  var s = document.createElement('script');\n",
       "  s.src = url;\n",
       "  s.async = true;\n",
       "  s.onreadystatechange = s.onload = callback;\n",
       "  s.onerror = function(){console.warn(\"failed to load library \" + url);};\n",
       "  document.getElementsByTagName(\"head\")[0].appendChild(s);\n",
       "}\n",
       "\n",
       "if(typeof(LDAvis) !== \"undefined\"){\n",
       "   // already loaded: just create the visualization\n",
       "   !function(LDAvis){\n",
       "       new LDAvis(\"#\" + \"ldavis_el896417190114574488436113136\", ldavis_el896417190114574488436113136_data);\n",
       "   }(LDAvis);\n",
       "}else if(typeof define === \"function\" && define.amd){\n",
       "   // require.js is available: use it to load d3/LDAvis\n",
       "   require.config({paths: {d3: \"https://cdnjs.cloudflare.com/ajax/libs/d3/3.5.5/d3.min\"}});\n",
       "   require([\"d3\"], function(d3){\n",
       "      window.d3 = d3;\n",
       "      LDAvis_load_lib(\"https://cdn.rawgit.com/bmabey/pyLDAvis/files/ldavis.v1.0.0.js\", function(){\n",
       "        new LDAvis(\"#\" + \"ldavis_el896417190114574488436113136\", ldavis_el896417190114574488436113136_data);\n",
       "      });\n",
       "    });\n",
       "}else{\n",
       "    // require.js not available: dynamically load d3 & LDAvis\n",
       "    LDAvis_load_lib(\"https://cdnjs.cloudflare.com/ajax/libs/d3/3.5.5/d3.min.js\", function(){\n",
       "         LDAvis_load_lib(\"https://cdn.rawgit.com/bmabey/pyLDAvis/files/ldavis.v1.0.0.js\", function(){\n",
       "                 new LDAvis(\"#\" + \"ldavis_el896417190114574488436113136\", ldavis_el896417190114574488436113136_data);\n",
       "            })\n",
       "         });\n",
       "}\n",
       "</script>"
      ],
      "text/plain": [
       "<IPython.core.display.HTML object>"
      ]
     },
     "execution_count": 22,
     "metadata": {},
     "output_type": "execute_result"
    }
   ],
   "source": [
    "import pyLDAvis.gensim\n",
    "lda_display = pyLDAvis.gensim.prepare(lda, corpus, dictionary, sort_topics=False)\n",
    "pyLDAvis.display(lda_display)"
   ]
  },
  {
   "cell_type": "markdown",
   "metadata": {},
   "source": [
    "## As topic related to health start syncronising but it also syncronised well so we increase the number of topic to check further or, stop here.\n",
    "\n",
    "### Now let see for topic 25\n"
   ]
  }
 ],
 "metadata": {
  "kernelspec": {
   "display_name": "Python 3",
   "language": "python",
   "name": "python3"
  },
  "language_info": {
   "codemirror_mode": {
    "name": "ipython",
    "version": 3
   },
   "file_extension": ".py",
   "mimetype": "text/x-python",
   "name": "python",
   "nbconvert_exporter": "python",
   "pygments_lexer": "ipython3",
   "version": "3.6.5"
  }
 },
 "nbformat": 4,
 "nbformat_minor": 2
}
